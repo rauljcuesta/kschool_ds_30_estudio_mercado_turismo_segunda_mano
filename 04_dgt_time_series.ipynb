{
 "cells": [
  {
   "cell_type": "code",
   "execution_count": null,
   "id": "775433f7",
   "metadata": {},
   "outputs": [],
   "source": [
    "import os\n",
    "import sys\n",
    "import pandas as pd\n",
    "import math\n",
    "import matplotlib.pyplot as plt\n",
    "import sweetviz as sv\n",
    "import numpy as np\n",
    "import seaborn as sns\n",
    "import datetime\n",
    "from sklearn.ensemble import RandomForestRegressor\n",
    "from sklearn.model_selection import GridSearchCV, ParameterGrid, KFold\n",
    "from sklearn.metrics import roc_auc_score, roc_curve, r2_score\n",
    "from scipy.stats import spearmanr, pearsonr"
   ]
  },
  {
   "cell_type": "code",
   "execution_count": null,
   "id": "dc26596e",
   "metadata": {},
   "outputs": [],
   "source": []
  },
  {
   "cell_type": "code",
   "execution_count": null,
   "id": "55c79ac7",
   "metadata": {},
   "outputs": [],
   "source": [
    "os.chdir('./scripts')\n",
    "\n",
    "import load_config"
   ]
  },
  {
   "cell_type": "code",
   "execution_count": null,
   "id": "a33ac1de",
   "metadata": {},
   "outputs": [],
   "source": []
  },
  {
   "cell_type": "code",
   "execution_count": null,
   "id": "b72c958c",
   "metadata": {},
   "outputs": [],
   "source": [
    "config = load_config.load_config_const()\n",
    "plt.style.use('seaborn')"
   ]
  },
  {
   "cell_type": "code",
   "execution_count": null,
   "id": "5bd82703",
   "metadata": {},
   "outputs": [],
   "source": []
  },
  {
   "cell_type": "markdown",
   "id": "c45c0644",
   "metadata": {},
   "source": [
    "# Obtención de serie temporal de traspasos diarios de turismos"
   ]
  },
  {
   "cell_type": "markdown",
   "id": "46e7a088",
   "metadata": {},
   "source": [
    "El objetivo de este notebook es crear una serie temporal en la que se calcule el número de traspasos de turismos. Primero realizaremos la carga del dataframe con una función que ya nos dará muchos de los campos formateados del notebook anterior"
   ]
  },
  {
   "cell_type": "code",
   "execution_count": null,
   "id": "74af4462",
   "metadata": {},
   "outputs": [],
   "source": [
    "df_dgt = load_config.obtain_dgt_dataset(config, 0.2)\n",
    "df_dgt.sample(10)"
   ]
  },
  {
   "cell_type": "code",
   "execution_count": null,
   "id": "bb2d881b",
   "metadata": {},
   "outputs": [],
   "source": []
  },
  {
   "cell_type": "code",
   "execution_count": null,
   "id": "5472775a",
   "metadata": {},
   "outputs": [],
   "source": []
  },
  {
   "cell_type": "markdown",
   "id": "3c8c5563",
   "metadata": {},
   "source": [
    "El siguiente paso es agrupar todas las transacciones por las fechas en las que se producen. Esto nos dará la cuantía diaria de trasacciones"
   ]
  },
  {
   "cell_type": "code",
   "execution_count": null,
   "id": "e0eadac4",
   "metadata": {},
   "outputs": [],
   "source": [
    "temporal_df_dgt = df_dgt.groupby([\"FEC_TRAMITE\"]).size().reset_index(name='count')"
   ]
  },
  {
   "cell_type": "code",
   "execution_count": null,
   "id": "bdfbfdb1",
   "metadata": {},
   "outputs": [],
   "source": [
    "temporal_df_dgt.sort_values('FEC_TRAMITE', ascending=True)"
   ]
  },
  {
   "cell_type": "markdown",
   "id": "a9dfb897",
   "metadata": {},
   "source": [
    "Crearemos un nuevo campo para la fecha, ya que el objetivo es usarla como indice para ordenar el dataframa"
   ]
  },
  {
   "cell_type": "code",
   "execution_count": null,
   "id": "feaa1d9d",
   "metadata": {},
   "outputs": [],
   "source": [
    "temporal_df_dgt['date'] = temporal_df_dgt['FEC_TRAMITE']\n",
    "temporal_df_dgt"
   ]
  },
  {
   "cell_type": "code",
   "execution_count": null,
   "id": "517bad34",
   "metadata": {},
   "outputs": [],
   "source": [
    "temporal_df_dgt = temporal_df_dgt.set_index('FEC_TRAMITE')"
   ]
  },
  {
   "cell_type": "code",
   "execution_count": null,
   "id": "554006ac",
   "metadata": {},
   "outputs": [],
   "source": [
    "temporal_df_dgt"
   ]
  },
  {
   "cell_type": "code",
   "execution_count": null,
   "id": "58d7691b",
   "metadata": {},
   "outputs": [],
   "source": []
  },
  {
   "cell_type": "markdown",
   "id": "2e4ff501",
   "metadata": {},
   "source": [
    "Mediante la siguiente linea de código, obtendremos las fechas en las cuales no tenemos registros de trasacciones (lo que interrumpiría la serie temporal)"
   ]
  },
  {
   "cell_type": "code",
   "execution_count": null,
   "id": "f38bd16e",
   "metadata": {},
   "outputs": [],
   "source": [
    "idx = pd.date_range(start = temporal_df_dgt[\"date\"].min(), end = temporal_df_dgt[\"date\"].max() , freq=\"d\").difference(temporal_df_dgt[\"date\"])"
   ]
  },
  {
   "cell_type": "code",
   "execution_count": null,
   "id": "4a184a29",
   "metadata": {},
   "outputs": [],
   "source": [
    "idx"
   ]
  },
  {
   "cell_type": "code",
   "execution_count": null,
   "id": "a7b5c015",
   "metadata": {},
   "outputs": [],
   "source": [
    "temporal_df_dgt_no_data = pd.DataFrame({'FEC_TRAMITE': idx})\n",
    "temporal_df_dgt_no_data"
   ]
  },
  {
   "cell_type": "markdown",
   "id": "3468d8d1",
   "metadata": {},
   "source": [
    "A partir de estas fechas obtendremos un nuevo dataframe, el cual iremos rellenando con las columnas de nuestro dataframe original"
   ]
  },
  {
   "cell_type": "code",
   "execution_count": null,
   "id": "6dbd93e1",
   "metadata": {},
   "outputs": [],
   "source": [
    "temporal_df_dgt_no_data['date'] = temporal_df_dgt_no_data['FEC_TRAMITE']\n",
    "temporal_df_dgt_no_data"
   ]
  },
  {
   "cell_type": "code",
   "execution_count": null,
   "id": "6d01ab4d",
   "metadata": {},
   "outputs": [],
   "source": [
    "temporal_df_dgt_no_data['count'] = 0\n",
    "temporal_df_dgt_no_data"
   ]
  },
  {
   "cell_type": "markdown",
   "id": "5fc4d9e3",
   "metadata": {},
   "source": [
    "Ya que en principio no tenemos datos de las ventas, indicamos que han sido 0, luego les daremos un valor"
   ]
  },
  {
   "cell_type": "code",
   "execution_count": null,
   "id": "46ae4f32",
   "metadata": {},
   "outputs": [],
   "source": [
    "temporal_df_dgt_no_data = temporal_df_dgt_no_data.set_index('FEC_TRAMITE')\n",
    "temporal_df_dgt_no_data"
   ]
  },
  {
   "cell_type": "code",
   "execution_count": null,
   "id": "d63886ea",
   "metadata": {},
   "outputs": [],
   "source": []
  },
  {
   "cell_type": "code",
   "execution_count": null,
   "id": "3195f7ae",
   "metadata": {},
   "outputs": [],
   "source": []
  },
  {
   "cell_type": "code",
   "execution_count": null,
   "id": "607cda9a",
   "metadata": {},
   "outputs": [],
   "source": []
  },
  {
   "cell_type": "markdown",
   "id": "b3ba8c02",
   "metadata": {},
   "source": [
    "Luego te tener nuestro nuevo dataframe con las fechas sin datos, lo concatenaremos a nuestro dataset original"
   ]
  },
  {
   "cell_type": "code",
   "execution_count": null,
   "id": "c210ac0c",
   "metadata": {},
   "outputs": [],
   "source": [
    "frames = [temporal_df_dgt, temporal_df_dgt_no_data]\n",
    "\n",
    "result_dgt = pd.concat(frames)"
   ]
  },
  {
   "cell_type": "code",
   "execution_count": null,
   "id": "668c3496",
   "metadata": {},
   "outputs": [],
   "source": [
    "result_dgt.sort_values('date', ascending=False)"
   ]
  },
  {
   "cell_type": "code",
   "execution_count": null,
   "id": "03e8c339",
   "metadata": {},
   "outputs": [],
   "source": []
  },
  {
   "cell_type": "code",
   "execution_count": null,
   "id": "1b1fd1fe",
   "metadata": {},
   "outputs": [],
   "source": []
  },
  {
   "cell_type": "markdown",
   "id": "513f8326",
   "metadata": {},
   "source": [
    "Indicaremos que días son fin de semana frente a los días ordinarios"
   ]
  },
  {
   "cell_type": "code",
   "execution_count": null,
   "id": "6a7e1115",
   "metadata": {},
   "outputs": [],
   "source": [
    "def is_weekend(day_week):\n",
    "    if (day_week == 'Saturday' or day_week == 'Sunday'):\n",
    "        return 1.0\n",
    "    else:\n",
    "        return 0.0\n",
    "    return False"
   ]
  },
  {
   "cell_type": "code",
   "execution_count": null,
   "id": "939032d1",
   "metadata": {},
   "outputs": [],
   "source": [
    "result_dgt['is_weekend'] = result_dgt['date'].dt.day_name().apply(lambda x: is_weekend(x))"
   ]
  },
  {
   "cell_type": "code",
   "execution_count": null,
   "id": "f19b692b",
   "metadata": {},
   "outputs": [],
   "source": [
    "result_dgt.sort_values('date', ascending=True)"
   ]
  },
  {
   "cell_type": "code",
   "execution_count": null,
   "id": "0fe8f76f",
   "metadata": {},
   "outputs": [],
   "source": []
  },
  {
   "cell_type": "markdown",
   "id": "798e2b11",
   "metadata": {},
   "source": [
    "Añadiremos nuevos campos para indicar los ciclos de semanas, meses y años. Tal como vimos en el notebook anterior, es importante recalcar estos periodos, ya que condicionan los traspasos y su frecuencia "
   ]
  },
  {
   "cell_type": "code",
   "execution_count": null,
   "id": "d0b09e60",
   "metadata": {},
   "outputs": [],
   "source": [
    "x = np.arange(len(result_dgt))\n",
    "\n",
    "result_dgt[\"s_period_week\"] = np.sin(2*np.pi*x/7)\n",
    "result_dgt[\"s_period_month\"] = np.sin(2*np.pi*x/30.5)\n",
    "result_dgt[\"s_period_year\"] = np.sin(2*np.pi*x/365 )\n",
    "\n",
    "result_dgt[\"c_period_week\"] = np.cos(2*np.pi*x/7)\n",
    "result_dgt[\"c_period_month\"] = np.cos(2*np.pi*x/30.5)\n",
    "result_dgt[\"c_period_year\"] = np.cos(2*np.pi*x/365 )"
   ]
  },
  {
   "cell_type": "code",
   "execution_count": null,
   "id": "759c971e",
   "metadata": {},
   "outputs": [],
   "source": [
    "result_dgt.sort_values('date', ascending=True)"
   ]
  },
  {
   "cell_type": "code",
   "execution_count": null,
   "id": "fff391ba",
   "metadata": {},
   "outputs": [],
   "source": []
  },
  {
   "cell_type": "markdown",
   "id": "258c0fa6",
   "metadata": {},
   "source": [
    "Llega el momento de rellenar los valores de los que no disponíamos información. Para ello diferenciaremos entre los días que son fin de semana de los que no, y con ello se les agregará dos medias diferentes"
   ]
  },
  {
   "cell_type": "code",
   "execution_count": null,
   "id": "28d159c1",
   "metadata": {},
   "outputs": [],
   "source": [
    "result_dgt[(result_dgt['count'] == 0) & (result_dgt['is_weekend'] == 1.0)]['count']"
   ]
  },
  {
   "cell_type": "code",
   "execution_count": null,
   "id": "0fdd5bcf",
   "metadata": {},
   "outputs": [],
   "source": [
    "result_dgt[(result_dgt['count'] != 0) & (result_dgt['is_weekend'] == 1.0)]['count'].mean()"
   ]
  },
  {
   "cell_type": "code",
   "execution_count": null,
   "id": "66c6b050",
   "metadata": {},
   "outputs": [],
   "source": [
    "result_dgt[(result_dgt['count'] == 0) & (result_dgt['is_weekend'] == 0.0)]['count']"
   ]
  },
  {
   "cell_type": "code",
   "execution_count": null,
   "id": "2abe1971",
   "metadata": {},
   "outputs": [],
   "source": [
    "result_dgt[(result_dgt['count'] != 0) & (result_dgt['is_weekend'] == 0.0)]['count'].mean()"
   ]
  },
  {
   "cell_type": "code",
   "execution_count": null,
   "id": "09b41a78",
   "metadata": {},
   "outputs": [],
   "source": []
  },
  {
   "cell_type": "code",
   "execution_count": null,
   "id": "ae82a4c9",
   "metadata": {},
   "outputs": [],
   "source": [
    "result_dgt.loc[(result_dgt['count'] == 0) & (result_dgt['is_weekend'] == 1.0),'count'] = result_dgt[(result_dgt['count'] != 0) & (result_dgt['is_weekend'] == 1.0)]['count'].mean()"
   ]
  },
  {
   "cell_type": "code",
   "execution_count": null,
   "id": "bda08e87",
   "metadata": {},
   "outputs": [],
   "source": [
    "result_dgt.loc[(result_dgt['count'] == 0) & (result_dgt['is_weekend'] == 0.0),'count'] = result_dgt[(result_dgt['count'] != 0) & (result_dgt['is_weekend'] == 0.0)]['count'].mean()"
   ]
  },
  {
   "cell_type": "code",
   "execution_count": null,
   "id": "fc40b6e0",
   "metadata": {},
   "outputs": [],
   "source": []
  },
  {
   "cell_type": "code",
   "execution_count": null,
   "id": "403eae81",
   "metadata": {},
   "outputs": [],
   "source": [
    "result_dgt[(result_dgt['count'] == 0) & (result_dgt['is_weekend'] == 1.0)]"
   ]
  },
  {
   "cell_type": "code",
   "execution_count": null,
   "id": "e3ed8642",
   "metadata": {},
   "outputs": [],
   "source": [
    "result_dgt[(result_dgt['count'] == 0) & (result_dgt['is_weekend'] == 0.0)]"
   ]
  },
  {
   "cell_type": "code",
   "execution_count": null,
   "id": "b3629248",
   "metadata": {},
   "outputs": [],
   "source": [
    "result_dgt[result_dgt['date'] == '2015-02-21']"
   ]
  },
  {
   "cell_type": "code",
   "execution_count": null,
   "id": "3f7b7d5c",
   "metadata": {},
   "outputs": [],
   "source": []
  },
  {
   "cell_type": "markdown",
   "id": "288c1ae7",
   "metadata": {},
   "source": [
    "Hecho esto, ya tenemos nuestra linea de tiempo completa"
   ]
  },
  {
   "cell_type": "code",
   "execution_count": null,
   "id": "67ab064d",
   "metadata": {},
   "outputs": [],
   "source": [
    "fig, ax = plt.subplots(figsize=(20,10))\n",
    "\n",
    "sns.lineplot(data=result_dgt, x='date', y='count', ax=ax)"
   ]
  },
  {
   "cell_type": "code",
   "execution_count": null,
   "id": "317ecbdf",
   "metadata": {},
   "outputs": [],
   "source": []
  },
  {
   "cell_type": "markdown",
   "id": "1218a821",
   "metadata": {},
   "source": [
    "Para comparar nuestras predicciones con los valores reales, vamos a tomar un periodo de tiempo concreto, los últimos 4 meses del año 2021 (mostraremos los 5 últimos)"
   ]
  },
  {
   "cell_type": "code",
   "execution_count": null,
   "id": "43927f3f",
   "metadata": {},
   "outputs": [],
   "source": [
    "fig, ax = plt.subplots(figsize=(20,10))\n",
    "\n",
    "sns.lineplot(data=result_dgt[result_dgt['date'] >= '2021-08-01' ], x='date', y='count', ax=ax)"
   ]
  },
  {
   "cell_type": "code",
   "execution_count": null,
   "id": "fd08e1b5",
   "metadata": {},
   "outputs": [],
   "source": []
  },
  {
   "cell_type": "code",
   "execution_count": null,
   "id": "237ffd10",
   "metadata": {},
   "outputs": [],
   "source": []
  },
  {
   "cell_type": "markdown",
   "id": "d3d78bd8",
   "metadata": {},
   "source": [
    "Definiremos los campos predictores como el campo a predecir, pero añadiremos la fecha en ambos para realizar el corte de los últimos 4 meses"
   ]
  },
  {
   "cell_type": "code",
   "execution_count": null,
   "id": "d55a88cf",
   "metadata": {},
   "outputs": [],
   "source": [
    "X = result_dgt[[\n",
    "    'date', 'is_weekend', 's_period_week', 's_period_week', 's_period_year', 'c_period_week', 'c_period_week', 'c_period_year'\n",
    "]]\n",
    "\n",
    "y = result_dgt[['date','count']]"
   ]
  },
  {
   "cell_type": "code",
   "execution_count": null,
   "id": "399f76b6",
   "metadata": {},
   "outputs": [],
   "source": [
    "X"
   ]
  },
  {
   "cell_type": "code",
   "execution_count": null,
   "id": "66b265d4",
   "metadata": {},
   "outputs": [],
   "source": []
  },
  {
   "cell_type": "markdown",
   "id": "f0eaa35e",
   "metadata": {},
   "source": [
    "Obtenemos los datos de entrenamiento y los de test (los últimos 4 meses)"
   ]
  },
  {
   "cell_type": "code",
   "execution_count": null,
   "id": "e1a6eb32",
   "metadata": {},
   "outputs": [],
   "source": [
    "train_X = train_X[train_X['date'] < '2021-09-01']\n",
    "test_X = test_X[test_X['date'] >= '2021-09-01']\n",
    "\n",
    "train_y = train_y[train_y['date'] < '2021-09-01']\n",
    "test_y = test_y[test_y['date'] >= '2021-09-01']"
   ]
  },
  {
   "cell_type": "markdown",
   "id": "893c8a27",
   "metadata": {},
   "source": [
    "Y, luego de ello, eliminamos la columna de fecha"
   ]
  },
  {
   "cell_type": "code",
   "execution_count": null,
   "id": "bbce1829",
   "metadata": {},
   "outputs": [],
   "source": [
    "X = X[['is_weekend', 's_period_week', 's_period_week', 's_period_year', 'c_period_week', 'c_period_week', 'c_period_year']]\n",
    "y = y['count']\n",
    "\n",
    "train_X = train_X[['is_weekend', 's_period_week', 's_period_week', 's_period_year', 'c_period_week', 'c_period_week', 'c_period_year']]\n",
    "test_X = test_X[['is_weekend', 's_period_week', 's_period_week', 's_period_year', 'c_period_week', 'c_period_week', 'c_period_year']]\n",
    "\n",
    "train_y = train_y['count']\n",
    "test_y = test_y['count']"
   ]
  },
  {
   "cell_type": "code",
   "execution_count": null,
   "id": "c1076d27",
   "metadata": {},
   "outputs": [],
   "source": []
  },
  {
   "cell_type": "markdown",
   "id": "6e9b7888",
   "metadata": {},
   "source": [
    "Realizaremos las predicciones usando un RandomForestRegressor. Primero realizaremos una predicción con unos metadatos al azar para ver como se comporta nuestro modelo"
   ]
  },
  {
   "cell_type": "code",
   "execution_count": null,
   "id": "2ed6aebc",
   "metadata": {},
   "outputs": [],
   "source": [
    "rf = RandomForestRegressor(n_estimators=600, min_samples_split=5, oob_score=True, max_depth=5)\n",
    "rf.fit(train_X, train_y)"
   ]
  },
  {
   "cell_type": "code",
   "execution_count": null,
   "id": "4b326a6d",
   "metadata": {},
   "outputs": [],
   "source": [
    "rf.oob_score_"
   ]
  },
  {
   "cell_type": "code",
   "execution_count": null,
   "id": "3b1f3be0",
   "metadata": {},
   "outputs": [],
   "source": [
    "rf.predict(train_X)"
   ]
  },
  {
   "cell_type": "code",
   "execution_count": null,
   "id": "a9ad9b7b",
   "metadata": {},
   "outputs": [],
   "source": []
  },
  {
   "cell_type": "code",
   "execution_count": null,
   "id": "7ed0462b",
   "metadata": {},
   "outputs": [],
   "source": [
    "y_hat = rf.predict(test_X)\n",
    "\n",
    "test_score = r2_score(test_y, y_hat)\n",
    "\n",
    "\n",
    "print(f'Out-of-bag R-2 score estimate: {rf.oob_score_:>5.3}')\n",
    "print(f'Test data R-2 score: {test_score:>5.3}')"
   ]
  },
  {
   "cell_type": "code",
   "execution_count": null,
   "id": "7bba7e43",
   "metadata": {},
   "outputs": [],
   "source": [
    "\n"
   ]
  },
  {
   "cell_type": "code",
   "execution_count": null,
   "id": "6d3d93ea",
   "metadata": {},
   "outputs": [],
   "source": [
    "from sklearn.model_selection import cross_val_score\n",
    "\n",
    "cross_val_score(X=train_X,y=train_y, estimator=rf )"
   ]
  },
  {
   "cell_type": "code",
   "execution_count": null,
   "id": "2b43523b",
   "metadata": {},
   "outputs": [],
   "source": []
  },
  {
   "cell_type": "code",
   "execution_count": null,
   "id": "35fcc387",
   "metadata": {},
   "outputs": [],
   "source": []
  },
  {
   "cell_type": "markdown",
   "id": "bd173c18",
   "metadata": {},
   "source": [
    "LLega el turno de usar un GridSearchCV para comprobar que configuración de nuestro modelo tiene mejores predicciones"
   ]
  },
  {
   "cell_type": "code",
   "execution_count": null,
   "id": "29fb91fd",
   "metadata": {},
   "outputs": [],
   "source": [
    "grid = {\n",
    "    'n_estimators': [100, 200, 300, 400, 500],\n",
    "    'max_depth': [5, 10, 15, 20],\n",
    "    'min_samples_split': [2, 4, 6, 8, 10],\n",
    "    'max_leaf_nodes': [5,10,25,50,100]\n",
    "}\n",
    "\n",
    "\n",
    "grid_search = GridSearchCV(\n",
    "    RandomForestRegressor(),\n",
    "    param_grid=grid,\n",
    "    scoring=\"neg_mean_squared_error\",\n",
    "    verbose=2\n",
    ")"
   ]
  },
  {
   "cell_type": "code",
   "execution_count": null,
   "id": "c2a8cf8e",
   "metadata": {
    "scrolled": true
   },
   "outputs": [],
   "source": [
    "grid_search.fit(train_X,train_y)"
   ]
  },
  {
   "cell_type": "code",
   "execution_count": null,
   "id": "2e6fce5b",
   "metadata": {},
   "outputs": [],
   "source": [
    "grid_search.best_params_"
   ]
  },
  {
   "cell_type": "code",
   "execution_count": null,
   "id": "640ca74c",
   "metadata": {},
   "outputs": [],
   "source": []
  },
  {
   "cell_type": "code",
   "execution_count": null,
   "id": "f3c77fc4",
   "metadata": {},
   "outputs": [],
   "source": [
    "pd.DataFrame(grid_search.cv_results_)"
   ]
  },
  {
   "cell_type": "code",
   "execution_count": null,
   "id": "23004104",
   "metadata": {},
   "outputs": [],
   "source": []
  },
  {
   "cell_type": "markdown",
   "id": "7c7db39a",
   "metadata": {},
   "source": [
    "Con la configuración óptima, volvemos a crear un nuevo modelo para tomar mediciones"
   ]
  },
  {
   "cell_type": "code",
   "execution_count": null,
   "id": "89d5f289",
   "metadata": {},
   "outputs": [],
   "source": [
    "rf_final = RandomForestRegressor(n_estimators=200, min_samples_split=2, oob_score=True, max_depth=5, max_leaf_nodes=5)\n",
    "rf_final.fit(train_X, train_y)"
   ]
  },
  {
   "cell_type": "code",
   "execution_count": null,
   "id": "3a447be1",
   "metadata": {},
   "outputs": [],
   "source": [
    "rf_final.oob_score_"
   ]
  },
  {
   "cell_type": "code",
   "execution_count": null,
   "id": "3788bf26",
   "metadata": {},
   "outputs": [],
   "source": []
  },
  {
   "cell_type": "markdown",
   "id": "bea3456d",
   "metadata": {},
   "source": [
    "Y hacemos una comparativa de resultados con el primer modelo"
   ]
  },
  {
   "cell_type": "code",
   "execution_count": null,
   "id": "aed2e286",
   "metadata": {},
   "outputs": [],
   "source": [
    "y_hat = rf_final.predict(test_X)\n",
    "\n",
    "test_score = r2_score(test_y, y_hat)\n",
    "\n",
    "\n",
    "print(f'Out-of-bag R-2 score estimate: {rf_final.oob_score_:>5.3}')\n",
    "print(f'Test data R-2 score: {test_score:>5.3}')"
   ]
  },
  {
   "cell_type": "code",
   "execution_count": null,
   "id": "ddaffa4c",
   "metadata": {},
   "outputs": [],
   "source": [
    "cross_val_score(X=train_X,y=train_y, estimator=rf_final )"
   ]
  },
  {
   "cell_type": "code",
   "execution_count": null,
   "id": "df81ce41",
   "metadata": {},
   "outputs": [],
   "source": []
  },
  {
   "cell_type": "code",
   "execution_count": null,
   "id": "70e2895e",
   "metadata": {},
   "outputs": [],
   "source": [
    "y_hat = rf.predict(test_X)\n",
    "\n",
    "test_score = r2_score(test_y, y_hat)\n",
    "\n",
    "\n",
    "print(f'Out-of-bag R-2 score estimate: {rf.oob_score_:>5.3}')\n",
    "print(f'Test data R-2 score: {test_score:>5.3}')"
   ]
  },
  {
   "cell_type": "code",
   "execution_count": null,
   "id": "4c7eea20",
   "metadata": {},
   "outputs": [],
   "source": [
    "cross_val_score(X=train_X,y=train_y, estimator=rf )"
   ]
  },
  {
   "cell_type": "code",
   "execution_count": null,
   "id": "271ad9e6",
   "metadata": {},
   "outputs": [],
   "source": []
  },
  {
   "cell_type": "markdown",
   "id": "945b5087",
   "metadata": {},
   "source": [
    "Si bien los resultados son mejores, esa mejoría es apenas perceptible en los resultados"
   ]
  },
  {
   "cell_type": "markdown",
   "id": "ea5bc454",
   "metadata": {},
   "source": [
    "Llega el momento de hacer una comparación entre nuestras predicciones y la realidad"
   ]
  },
  {
   "cell_type": "code",
   "execution_count": null,
   "id": "d7f5f073",
   "metadata": {},
   "outputs": [],
   "source": [
    "df_graph_final = test_X.copy()"
   ]
  },
  {
   "cell_type": "code",
   "execution_count": null,
   "id": "6fb4f763",
   "metadata": {},
   "outputs": [],
   "source": [
    "df_graph_final.sample(10)"
   ]
  },
  {
   "cell_type": "code",
   "execution_count": null,
   "id": "b83b3619",
   "metadata": {},
   "outputs": [],
   "source": [
    "df_graph_final['date'] = df_graph_final.index"
   ]
  },
  {
   "cell_type": "code",
   "execution_count": null,
   "id": "3f6a835d",
   "metadata": {},
   "outputs": [],
   "source": [
    "df_graph_final.sample(10)"
   ]
  },
  {
   "cell_type": "code",
   "execution_count": null,
   "id": "e8732aa8",
   "metadata": {},
   "outputs": [],
   "source": [
    "df_graph_final['count'] = rf_final.predict(test_X)"
   ]
  },
  {
   "cell_type": "code",
   "execution_count": null,
   "id": "43ab5096",
   "metadata": {},
   "outputs": [],
   "source": []
  },
  {
   "cell_type": "code",
   "execution_count": null,
   "id": "a207a19b",
   "metadata": {},
   "outputs": [],
   "source": [
    "fig, ax = plt.subplots(figsize=(20,10))\n",
    "\n",
    "sns.lineplot(data=result_dgt[result_dgt['date'] >= '2021-08-01' ], x='date', y='count', ax=ax, color='blue', label='Datos reales')\n",
    "sns.lineplot(data=df_graph_final, x='date', y='count', ax=ax, color='red', label='Predicción')"
   ]
  },
  {
   "cell_type": "markdown",
   "id": "66282499",
   "metadata": {},
   "source": [
    "## Conclusiones"
   ]
  },
  {
   "cell_type": "markdown",
   "id": "94b6cc65",
   "metadata": {},
   "source": [
    "- El modelo consigue predecir el descenso de transacciones los fines de semana\n",
    "- Dependiendo de las iteraciones, consigue o no el aumento al final de año (esto puede ser debido al fracionamiento de los datos, ya que a cada generación se trae un porcentaje bajo de los mismo, pero a un volumen mayor el kernel se satura)"
   ]
  }
 ],
 "metadata": {
  "kernelspec": {
   "display_name": "Python 3 (ipykernel)",
   "language": "python",
   "name": "python3"
  },
  "language_info": {
   "codemirror_mode": {
    "name": "ipython",
    "version": 3
   },
   "file_extension": ".py",
   "mimetype": "text/x-python",
   "name": "python",
   "nbconvert_exporter": "python",
   "pygments_lexer": "ipython3",
   "version": "3.7.7"
  }
 },
 "nbformat": 4,
 "nbformat_minor": 5
}
