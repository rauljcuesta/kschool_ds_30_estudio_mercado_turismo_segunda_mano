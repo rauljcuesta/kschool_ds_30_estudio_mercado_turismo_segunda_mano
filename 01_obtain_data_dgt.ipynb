{
 "cells": [
  {
   "cell_type": "markdown",
   "id": "ef979e5d",
   "metadata": {},
   "source": [
    "# Obtener datos DGT"
   ]
  },
  {
   "cell_type": "markdown",
   "id": "fa416cf9",
   "metadata": {},
   "source": [
    "En este notebook se implementará el código para obtener desde la página de microdatos de la DGT los archivos descagables con la información por meses y años de las transferencias de vehículos que almacena y pone a disposición.\n",
    "\n",
    "Los archivos se pueden descargar desde un formulario indicando mes y año. El presente código es una forma de automaticar el proceso.\n",
    "\n",
    "Tras varias pruebas, siguiendo información de selenium, el código no consigue que los archivos se descarguen en la ruta indicada, guardando por defecto los archivos en la carpeta de descargas de Firefox"
   ]
  },
  {
   "cell_type": "markdown",
   "id": "1aa12bf3",
   "metadata": {},
   "source": [
    "## Instanciar"
   ]
  },
  {
   "cell_type": "code",
   "execution_count": null,
   "id": "b25ac791",
   "metadata": {},
   "outputs": [],
   "source": [
    "from selenium.webdriver import Firefox\n",
    "from selenium.webdriver import FirefoxProfile\n",
    "from selenium.webdriver.firefox.options import Options\n",
    "import pandas as pd\n",
    "import time\n",
    "\n",
    "downloadDir = './../data/dgt'\n",
    "\n",
    "fxProfile = FirefoxProfile()\n",
    "\n",
    "fxProfile.set_preference(\"browser.download.folderList\",2);\n",
    "fxProfile.set_preference(\"browser.download.manager.showWhenStarting\",False);\n",
    "fxProfile.set_preference(\"browser.download.dir\",downloadDir);\n",
    "fxProfile.set_preference(\"browser.helperApps.neverAsk.saveToDisk\",\"text/csv\");\n",
    "\n",
    "driver_path = './../utils/geckodriver'\n",
    "url_dgt = 'https://sedeapl.dgt.gob.es/WEB_IEST_CONSULTA/subcategoria.faces'\n",
    "\n",
    "dgt = Firefox(executable_path=driver_path, firefox_profile=fxProfile)\n",
    "\n",
    "dgt.get(url_dgt)"
   ]
  },
  {
   "cell_type": "markdown",
   "id": "f2451fe5",
   "metadata": {},
   "source": [
    "## LLEGAR AL FORMULARIO DE DESCARGA"
   ]
  },
  {
   "cell_type": "markdown",
   "id": "a676d1d6",
   "metadata": {},
   "source": [
    "Esta parte de código permite llegar hasta el area de descargas de los microdatos correspondientes a las transacciones de vehículos. No existe una url directa."
   ]
  },
  {
   "cell_type": "code",
   "execution_count": null,
   "id": "8b23b50a",
   "metadata": {},
   "outputs": [],
   "source": [
    "# boton vehiculos\n",
    "\n",
    "car_button = '';\n",
    "\n",
    "for menu in dgt.find_element_by_id('menu').find_elements_by_tag_name('input'):\n",
    "     if (menu.get_attribute('value') == 'Vehículos'):\n",
    "            car_button = menu\n",
    "        \n",
    "    \n",
    "if (car_button):\n",
    "    car_button.click()\n",
    "\n",
    "time.sleep(3)\n",
    "\n",
    "# boton transferencias\n",
    "\n",
    "transfer_button = '';\n",
    "\n",
    "for menu in dgt.find_element_by_id('menu').find_elements_by_tag_name('input'):\n",
    "     if (menu.get_attribute('value') == 'Transferencias'):\n",
    "            transfer_button = menu\n",
    "        \n",
    "    \n",
    "if (transfer_button):\n",
    "    transfer_button.click()\n",
    "    \n",
    "time.sleep(3)\n",
    "    \n",
    "# boton Microdatos\n",
    "\n",
    "microdata_button = '';\n",
    "\n",
    "for report in dgt.find_element_by_id('accesoInformes').find_elements_by_tag_name('input'):\n",
    "     if (report.get_attribute('value') == 'Microdatos'):\n",
    "            microdata_button = report\n",
    "        \n",
    "    \n",
    "if (microdata_button):\n",
    "    microdata_button.click()\n",
    "    \n",
    "time.sleep(3)"
   ]
  },
  {
   "cell_type": "markdown",
   "id": "b63c6d82",
   "metadata": {},
   "source": [
    "## DESCARGAR FORMULARIOS"
   ]
  },
  {
   "cell_type": "markdown",
   "id": "799ad605",
   "metadata": {},
   "source": [
    "El script va recorriendo los valores de los selectores y así va descargando uno a uno todos los archivos"
   ]
  },
  {
   "cell_type": "code",
   "execution_count": null,
   "id": "5a28fbb7",
   "metadata": {},
   "outputs": [],
   "source": [
    "\n",
    "\n",
    "# Selector año\n",
    "\n",
    "dgt.accept_next_alert = True\n",
    "\n",
    "download_button = dgt.find_element_by_id('configuracionInfPersonalizado').find_element_by_class_name('botonMargin').find_element_by_class_name('botonSINimgen')\n",
    "\n",
    "for option_year in dgt.find_element_by_id('configuracionInfPersonalizado:filtroMesAnyo').find_elements_by_tag_name('option'):\n",
    "    \n",
    "    print(option_year.text[ 0: 4: 1])\n",
    "    option_year.click()\n",
    "    time.sleep(4)\n",
    "    \n",
    "    for option_month in dgt.find_element_by_id('configuracionInfPersonalizado:filtroMesMes').find_elements_by_tag_name('option'):\n",
    "        \n",
    "        print(option_month.text)\n",
    "        option_month.click()\n",
    "        time.sleep(4)\n",
    "        \n",
    "        download_button.click()\n",
    "        \n",
    "        \n",
    "        \n",
    "# configuracionInfPersonalizado -> botonMargin -> input -> value Descargar"
   ]
  },
  {
   "cell_type": "code",
   "execution_count": null,
   "id": "a4e8abb1",
   "metadata": {},
   "outputs": [],
   "source": []
  },
  {
   "cell_type": "code",
   "execution_count": null,
   "id": "4044d31f",
   "metadata": {},
   "outputs": [],
   "source": []
  }
 ],
 "metadata": {
  "kernelspec": {
   "display_name": "Python 3 (ipykernel)",
   "language": "python",
   "name": "python3"
  },
  "language_info": {
   "codemirror_mode": {
    "name": "ipython",
    "version": 3
   },
   "file_extension": ".py",
   "mimetype": "text/x-python",
   "name": "python",
   "nbconvert_exporter": "python",
   "pygments_lexer": "ipython3",
   "version": "3.7.7"
  }
 },
 "nbformat": 4,
 "nbformat_minor": 5
}
