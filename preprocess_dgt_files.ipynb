{
 "cells": [
  {
   "cell_type": "code",
   "execution_count": null,
   "id": "73507c8b",
   "metadata": {},
   "outputs": [],
   "source": [
    "import pandas as pd\n",
    "import zipfile\n",
    "import os\n",
    "import tarfile\n",
    "import math\n",
    "import numpy as np\n",
    "import os"
   ]
  },
  {
   "cell_type": "code",
   "execution_count": null,
   "id": "c2207933",
   "metadata": {},
   "outputs": [],
   "source": []
  },
  {
   "cell_type": "code",
   "execution_count": null,
   "id": "1e760b77",
   "metadata": {},
   "outputs": [],
   "source": [
    "pd.set_option('display.max_columns', None)\n",
    "pd.set_option('display.max_rows', 100)"
   ]
  },
  {
   "cell_type": "code",
   "execution_count": null,
   "id": "c8ddffab",
   "metadata": {},
   "outputs": [],
   "source": []
  },
  {
   "cell_type": "code",
   "execution_count": null,
   "id": "ce61c4b9",
   "metadata": {},
   "outputs": [],
   "source": [
    "data_route = './data/dgt/';"
   ]
  },
  {
   "cell_type": "markdown",
   "id": "a80da957",
   "metadata": {},
   "source": [
    "# Preprocesado de los archivos directamente descargados de la DGT"
   ]
  },
  {
   "cell_type": "markdown",
   "id": "c21157f5",
   "metadata": {},
   "source": [
    "Una vez descargados los archivos de transacciones de la página de microdatos de la DGT, es requerido un procesamiento previo de los datos, debido a su codificación (ISO-8859-1) y a su formato, ya que no se trata de un csv.\n",
    "\n",
    "Los archivos de la DGT son zip's que contienen archivos de ancho fijo. La diferencia con respecto a los csv's es que no son están separados por, valga la redundancia, separadores, sino que cada campo tiene un tamaño de caracteres máximo asignado.\n",
    "\n",
    "A continuación se irán explicando las diferentes funciones que aparecen en este notebook y su función"
   ]
  },
  {
   "cell_type": "code",
   "execution_count": null,
   "id": "4df7e904",
   "metadata": {},
   "outputs": [],
   "source": []
  },
  {
   "cell_type": "markdown",
   "id": "507b52ca",
   "metadata": {},
   "source": [
    "La función \"gbk_to_utf8\" se encarga de abrir el archivo de ancho fijo de la DGT y cambiar su codificación"
   ]
  },
  {
   "cell_type": "code",
   "execution_count": null,
   "id": "9d9daae3",
   "metadata": {},
   "outputs": [],
   "source": [
    "def gbk_to_utf8(input_file, output_file):\n",
    "    # Load Files\n",
    "    input_file_opened = open(input_file, 'r', encoding='ISO-8859-1')\n",
    "    input_file_read = input_file_opened.read()\n",
    "    input_file_opened.close()\n",
    "    os.remove(input_file)\n",
    "    \n",
    "    output_file_opened = open(output_file, 'x', encoding='utf-8', newline='\\n')\n",
    "    # Transcode\n",
    "    print('---- Transcoding…')\n",
    "    output_file_opened.write(input_file_read)\n",
    "    output_file_opened.close()\n",
    "    \n",
    "    print('---- Transcoding Done')"
   ]
  },
  {
   "cell_type": "code",
   "execution_count": null,
   "id": "5ab6ea8f",
   "metadata": {},
   "outputs": [],
   "source": []
  },
  {
   "cell_type": "markdown",
   "id": "f75c6669",
   "metadata": {},
   "source": [
    "\"extract_dataframe_dgt_tourist\" sirve como una función que llama a otros procedimientos y, además, lee el archivo de ancho fijo y lo carga como Dataframe de Pandas"
   ]
  },
  {
   "cell_type": "code",
   "execution_count": null,
   "id": "091aa516",
   "metadata": {},
   "outputs": [],
   "source": [
    "def extract_dataframe_dgt_tourist(route_files, file_zip):\n",
    "    \n",
    "    widths = [8,1,8,30,22,1,21,2,1,5,6,6,6,3,2,2,2,2,24,2,2,1,8,5,8,1,1,9,3,5,30,7,3,5,1,1,1,1,1,1,11,25,25,35,70,6,6,4,4,3,8,4,4,4,6,30,50,35,25,35,4,4,4,1,25,1,4,25,8]\n",
    "    columns = ['FEC_MATRICULA','COD_CLASE_MAT','FEC_TRAMITACION','MARCA_ITV','MODELO_ITV','COD_PROCEDENCIA_ITV','BASTIDOR_ITV','COD_TIPO','COD_PROPULSION_ITV','CILINDRADA_ITV','POTENCIA_ITV','TARA','PESO_MAX','NUM_PLAZAS','IND_PRECINTO','IND_EMBARGO','NUM_TRANSMISIONES','NUM_TITULARES','LOCALIDAD_VEHICULO','COD_PROVINCIA_VEH','COD_PROVINCIA_MAT','CLAVE_TRAMITE','FEC_TRAMITE','CODIGO_POSTAL','FEC_PRIM_MATRICULACION','IND_NUEVO_USADO','PERSONA_FISICA_JURIDICA','CODIGO_ITV','SERVICIO','COD_MUNICIPIO_INE_VEH','MUNICIPIO','KW_ITV','NUM_PLAZAS_MAX','CO2_ITV','RENTING','COD_TUTELA','COD_POSESION','IND_BAJA_DEF','IND_BAJA_TEMP','IND_SUSTRACCION','BAJA_TELEMATICA','TIPO_ITV','VARIANTE_ITV','VERSION_ITV','FABRICANTE_ITV','MASA_ORDEN_MARCHA_ITV','MASA_MÁXIMA_TECNICA_ADMISIBLE_ITV','CATEGORÍA_HOMOLOGACIÓN_EUROPEA_ITV','CARROCERIA','PLAZAS_PIE','NIVEL_EMISIONES_EURO_ITV','CONSUMO_WH/KM_ITV','CLASIFICACIÓN_REGLAMENTO_VEHICULOS_ITV','CATEGORÍA_VEHÍCULO_ELÉCTRICO','AUTONOMÍA_VEHÍCULO_ELÉCTRICO','MARCA_VEHÍCULO_BASE','FABRICANTE_VEHÍCULO_BASE','TIPO_VEHÍCULO_BASE','VARIANTE_VEHÍCULO_BASE','VERSIÓN_VEHÍCULO_BASE','DISTANCIA_EJES_12','VIA_ANTERIOR_ITV','VIA_POSTERIOR_ITV','TIPO_ALIMENTACION_ITV','CONTRASEÑA_HOMOLOGACION_ITV','ECO_INNOVACION_ITV','REDUCCION_ECO_ITV','CODIGO_ECO_ITV','FEC_PROCESO']\n",
    "    tourist_code = '40'\n",
    "\n",
    "    print('-- Decompress file…')\n",
    "\n",
    "    with zipfile.ZipFile(route_files+file_zip,\"r\") as zip_ref:\n",
    "        zip_ref.extractall(path=route_files, members=None, pwd=None)\n",
    "        \n",
    "    file_txt = zip_ref.namelist()[0]\n",
    "    \n",
    "    print('-- Change encode to UTF-8')\n",
    "    gbk_to_utf8(route_files+file_txt, route_files+file_txt)\n",
    "    \n",
    "    print('-- Transform to dataframe…')\n",
    "    dgt_df = pd.read_fwf(route_files+file_txt, widths = widths, header=None)\n",
    "    dgt_df.columns = columns\n",
    "    \n",
    "    os.remove(route_files+file_txt)\n",
    "    \n",
    "    dgt_df.replace('^\\s+', '', regex=True, inplace=True) #front\n",
    "    dgt_df.replace('\\s+$', '', regex=True, inplace=True) #end\n",
    "    \n",
    "    print('-- Extract tourist rows')\n",
    "    dgt_df = dgt_df[dgt_df['COD_TIPO'] == tourist_code].reset_index()\n",
    "    \n",
    "    return dgt_df\n",
    "    \n",
    "    \n",
    "    "
   ]
  },
  {
   "cell_type": "code",
   "execution_count": null,
   "id": "24dd10d6",
   "metadata": {},
   "outputs": [],
   "source": []
  },
  {
   "cell_type": "markdown",
   "id": "a3757e93",
   "metadata": {},
   "source": [
    "La función \"create_csv_tar_gz\" tiene como objetivo almacenar el Dataframe como un csv y luego comprimirlo en formato \"tar.gz\""
   ]
  },
  {
   "cell_type": "code",
   "execution_count": null,
   "id": "ee0fe408",
   "metadata": {},
   "outputs": [],
   "source": [
    "def create_csv_tar_gz(year):\n",
    "\n",
    "    dgt_df = create_dataset_tourist_year(year)\n",
    "    \n",
    "    csv_file = \"export_anual_trf_\"+year+\".csv\"\n",
    "    \n",
    "    tar_file = \"export_anual_trf_\"+year+\".csv.tar.gz\"\n",
    "\n",
    "    dgt_df.to_csv(data_route+csv_file, index=False, sep=\"^\")\n",
    "    \n",
    "    cmd = 'tar -czvf '+data_route+tar_file+' '+data_route+csv_file\n",
    "\n",
    "    os.system(cmd)\n",
    "    \n",
    "    os.remove(data_route+csv_file)\n"
   ]
  },
  {
   "cell_type": "code",
   "execution_count": null,
   "id": "d212fb89",
   "metadata": {},
   "outputs": [],
   "source": []
  },
  {
   "cell_type": "markdown",
   "id": "6d5b7387",
   "metadata": {},
   "source": [
    "La siguiente función reduce el Dataframe a unos determinados campos, ya que muchos de los campos que contiene el archivo de la DGT con informativos y se ha comprobado que, o no tienen relevancia o que contienen una proporción muy elevada de Nan"
   ]
  },
  {
   "cell_type": "code",
   "execution_count": null,
   "id": "7fa6cbb9",
   "metadata": {},
   "outputs": [],
   "source": [
    "def reduce_fields(data_set):    \n",
    "    return data_set[['FEC_MATRICULA','COD_CLASE_MAT','FEC_TRAMITACION','MARCA_ITV','MODELO_ITV','COD_PROCEDENCIA_ITV','COD_PROPULSION_ITV','CILINDRADA_ITV','POTENCIA_ITV','NUM_PLAZAS','NUM_TRANSMISIONES','NUM_TITULARES','LOCALIDAD_VEHICULO','COD_PROVINCIA_VEH','COD_PROVINCIA_MAT','CLAVE_TRAMITE','FEC_TRAMITE','CODIGO_POSTAL','FEC_PRIM_MATRICULACION','IND_NUEVO_USADO','PERSONA_FISICA_JURIDICA','COD_MUNICIPIO_INE_VEH','MUNICIPIO','KW_ITV','NUM_PLAZAS_MAX','CO2_ITV','RENTING','CATEGORÍA_HOMOLOGACIÓN_EUROPEA_ITV','NIVEL_EMISIONES_EURO_ITV','CONSUMO_WH/KM_ITV','CATEGORÍA_VEHÍCULO_ELÉCTRICO','AUTONOMÍA_VEHÍCULO_ELÉCTRICO']]"
   ]
  },
  {
   "cell_type": "code",
   "execution_count": null,
   "id": "2eaac7c2",
   "metadata": {},
   "outputs": [],
   "source": []
  },
  {
   "cell_type": "markdown",
   "id": "fef8eaa3",
   "metadata": {},
   "source": [
    "\"month_to_quarter\" calcula el cuatrimestre del año para meterlo como campo dentro del Dataframe"
   ]
  },
  {
   "cell_type": "code",
   "execution_count": null,
   "id": "d5dcdb24",
   "metadata": {},
   "outputs": [],
   "source": [
    "def month_to_quarter(month):\n",
    "    if (month >= 1 and month <=12):\n",
    "        return (month-1)//3 + 1\n",
    "    else:\n",
    "        return np.nan\n",
    "\n"
   ]
  },
  {
   "cell_type": "code",
   "execution_count": null,
   "id": "3dc5d0bc",
   "metadata": {},
   "outputs": [],
   "source": []
  },
  {
   "cell_type": "markdown",
   "id": "5233f933",
   "metadata": {},
   "source": [
    "\"create_new_fields\" recalcula campos e inserta nuevos que serán de utilidad para el estudio del Dataframe"
   ]
  },
  {
   "cell_type": "code",
   "execution_count": null,
   "id": "7d9f9796",
   "metadata": {},
   "outputs": [],
   "source": [
    "def create_new_fields(df):\n",
    "    \n",
    "    print('-- START format dates and create new fields')\n",
    "    df['FEC_MATRICULA'] = df['FEC_MATRICULA'].apply(lambda x: pd.to_datetime(str(x)[-4:]+'-'+str(x)[-6:-4]+'-'+str(x)[:-6]) )\n",
    "    df['FEC_TRAMITACION'] = df['FEC_TRAMITACION'].apply(lambda x: (pd.to_datetime(str(int(x))[-4:]+'-'+str(int(x))[-6:-4]+'-'+str(int(x))[:-6])) if not math.isnan(x) else x )\n",
    "    df['FEC_TRAMITE'] = df['FEC_TRAMITE'].apply(lambda x: pd.to_datetime(str(x)[-4:]+'-'+str(x)[-6:-4]+'-'+str(x)[:-6]) )\n",
    "    # df['FEC_PROCESO'] = df['FEC_PROCESO'].apply(lambda x: pd.to_datetime(str(x)[-4:]+'-'+str(x)[-6:-4]+'-'+str(x)[:-6]) )\n",
    "    df['year_Q'] = df['FEC_TRAMITE'].apply(lambda x: x.strftime(\"%Y\") )\n",
    "    df['Q_query'] = df['FEC_TRAMITE'].apply(lambda x: month_to_quarter(int(x.strftime(\"%m\"))) )\n",
    "    df['FEC_PRIM_MATRICULACION'] = df['FEC_PRIM_MATRICULACION'].apply(lambda x: (pd.to_datetime(str(int(x))[-4:]+'-'+str(int(x))[-6:-4]+'-'+str(int(x))[:-6])) if not math.isnan(x) else x )\n",
    "    print('-- END format dates and create new fields')\n",
    "    \n",
    "    return df\n",
    "    "
   ]
  },
  {
   "cell_type": "code",
   "execution_count": null,
   "id": "3c9c0235",
   "metadata": {},
   "outputs": [],
   "source": []
  },
  {
   "cell_type": "markdown",
   "id": "b16567a9",
   "metadata": {},
   "source": [
    "\"create_dataset_tourist_year\" va uniendo los diferentes Dataframe. La DGT tiene separados los archivos por meses, pero para su almacenamiento, se realizará en años"
   ]
  },
  {
   "cell_type": "code",
   "execution_count": null,
   "id": "1df6e759",
   "metadata": {},
   "outputs": [],
   "source": [
    "def create_dataset_tourist_year(year):\n",
    "\n",
    "    dgt_df = False\n",
    "\n",
    "    for subdir, dirs, files in os.walk(data_route):\n",
    "        for file in sorted(files):\n",
    "            if ( file.find('.zip') != -1 and file.find(year) != -1):\n",
    "                print(file)\n",
    "\n",
    "                df_aux = extract_dataframe_dgt_tourist(data_route, file)\n",
    "                df_aux = reduce_fields(df_aux)\n",
    "                df_aux = create_new_fields(df_aux)\n",
    "\n",
    "                if (type(dgt_df) == pd.core.frame.DataFrame):\n",
    "                    dgt_df = pd.concat([dgt_df,df_aux], keys=None)\n",
    "                else:\n",
    "                    dgt_df = df_aux.copy()\n",
    "                    \n",
    "    return dgt_df"
   ]
  },
  {
   "cell_type": "code",
   "execution_count": null,
   "id": "2e15471a",
   "metadata": {},
   "outputs": [],
   "source": []
  },
  {
   "cell_type": "markdown",
   "id": "32663e97",
   "metadata": {},
   "source": [
    "Y, como punto final, se realiza la ejecución de todo el proceso, limitado a entre los años 2015 y 2021"
   ]
  },
  {
   "cell_type": "code",
   "execution_count": null,
   "id": "1b152cfc",
   "metadata": {},
   "outputs": [],
   "source": [
    "for year in ['2015', '2016', '2017','2018','2019','2020','2021']:\n",
    "    print(year)\n",
    "    create_csv_tar_gz(year)"
   ]
  },
  {
   "cell_type": "code",
   "execution_count": null,
   "id": "e3300405",
   "metadata": {},
   "outputs": [],
   "source": []
  },
  {
   "cell_type": "code",
   "execution_count": null,
   "id": "4aa2345f",
   "metadata": {},
   "outputs": [],
   "source": []
  },
  {
   "cell_type": "code",
   "execution_count": null,
   "id": "bdafbab6",
   "metadata": {},
   "outputs": [],
   "source": []
  },
  {
   "cell_type": "code",
   "execution_count": null,
   "id": "f1b35d8c",
   "metadata": {},
   "outputs": [],
   "source": []
  },
  {
   "cell_type": "code",
   "execution_count": null,
   "id": "4eaaecb8",
   "metadata": {},
   "outputs": [],
   "source": []
  },
  {
   "cell_type": "code",
   "execution_count": null,
   "id": "330e6510",
   "metadata": {},
   "outputs": [],
   "source": []
  },
  {
   "cell_type": "code",
   "execution_count": null,
   "id": "f692c432",
   "metadata": {},
   "outputs": [],
   "source": []
  },
  {
   "cell_type": "code",
   "execution_count": null,
   "id": "23036cee",
   "metadata": {},
   "outputs": [],
   "source": []
  }
 ],
 "metadata": {
  "kernelspec": {
   "display_name": "Python 3 (ipykernel)",
   "language": "python",
   "name": "python3"
  },
  "language_info": {
   "codemirror_mode": {
    "name": "ipython",
    "version": 3
   },
   "file_extension": ".py",
   "mimetype": "text/x-python",
   "name": "python",
   "nbconvert_exporter": "python",
   "pygments_lexer": "ipython3",
   "version": "3.7.7"
  }
 },
 "nbformat": 4,
 "nbformat_minor": 5
}
