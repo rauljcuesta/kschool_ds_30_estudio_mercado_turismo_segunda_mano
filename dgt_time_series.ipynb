{
 "cells": [
  {
   "cell_type": "code",
   "execution_count": null,
   "id": "775433f7",
   "metadata": {},
   "outputs": [],
   "source": [
    "import os\n",
    "import sys\n",
    "import pandas as pd\n",
    "import math\n",
    "import matplotlib.pyplot as plt\n",
    "import sweetviz as sv\n",
    "import numpy as np\n",
    "import seaborn as sns\n",
    "import datetime\n",
    "from sklearn.ensemble import RandomForestRegressor\n",
    "from sklearn.model_selection import GridSearchCV, ParameterGrid, KFold\n",
    "from sklearn.metrics import roc_auc_score, roc_curve, r2_score\n",
    "from scipy.stats import spearmanr, pearsonr"
   ]
  },
  {
   "cell_type": "code",
   "execution_count": null,
   "id": "dc26596e",
   "metadata": {},
   "outputs": [],
   "source": []
  },
  {
   "cell_type": "code",
   "execution_count": null,
   "id": "55c79ac7",
   "metadata": {},
   "outputs": [],
   "source": [
    "os.chdir('./scripts')\n",
    "\n",
    "import load_config"
   ]
  },
  {
   "cell_type": "code",
   "execution_count": null,
   "id": "a33ac1de",
   "metadata": {},
   "outputs": [],
   "source": []
  },
  {
   "cell_type": "code",
   "execution_count": null,
   "id": "b72c958c",
   "metadata": {},
   "outputs": [],
   "source": [
    "config = load_config.load_config_const()\n",
    "plt.style.use('seaborn')"
   ]
  },
  {
   "cell_type": "code",
   "execution_count": null,
   "id": "5bd82703",
   "metadata": {},
   "outputs": [],
   "source": []
  },
  {
   "cell_type": "code",
   "execution_count": null,
   "id": "74af4462",
   "metadata": {},
   "outputs": [],
   "source": [
    "df_dgt = load_config.obtain_dgt_dataset(config, 0.3)\n",
    "df_dgt.sample(10)"
   ]
  },
  {
   "cell_type": "code",
   "execution_count": null,
   "id": "bb2d881b",
   "metadata": {},
   "outputs": [],
   "source": []
  },
  {
   "cell_type": "code",
   "execution_count": null,
   "id": "5472775a",
   "metadata": {},
   "outputs": [],
   "source": []
  },
  {
   "cell_type": "code",
   "execution_count": null,
   "id": "42f14495",
   "metadata": {},
   "outputs": [],
   "source": []
  },
  {
   "cell_type": "code",
   "execution_count": null,
   "id": "bbbf38ae",
   "metadata": {},
   "outputs": [],
   "source": []
  },
  {
   "cell_type": "code",
   "execution_count": null,
   "id": "348fbd8e",
   "metadata": {},
   "outputs": [],
   "source": []
  },
  {
   "cell_type": "code",
   "execution_count": null,
   "id": "06c5bece",
   "metadata": {},
   "outputs": [],
   "source": []
  },
  {
   "cell_type": "code",
   "execution_count": null,
   "id": "5ffe7be2",
   "metadata": {},
   "outputs": [],
   "source": []
  },
  {
   "cell_type": "code",
   "execution_count": null,
   "id": "fac4ee4e",
   "metadata": {},
   "outputs": [],
   "source": []
  },
  {
   "cell_type": "code",
   "execution_count": null,
   "id": "e0eadac4",
   "metadata": {},
   "outputs": [],
   "source": [
    "temporal_df_dgt = df_dgt.groupby([\"FEC_TRAMITE\"]).size().reset_index(name='count')"
   ]
  },
  {
   "cell_type": "code",
   "execution_count": null,
   "id": "bdfbfdb1",
   "metadata": {},
   "outputs": [],
   "source": [
    "temporal_df_dgt.sort_values('FEC_TRAMITE', ascending=True)"
   ]
  },
  {
   "cell_type": "code",
   "execution_count": null,
   "id": "9c2caaac",
   "metadata": {},
   "outputs": [],
   "source": []
  },
  {
   "cell_type": "code",
   "execution_count": null,
   "id": "feaa1d9d",
   "metadata": {},
   "outputs": [],
   "source": [
    "temporal_df_dgt['date'] = temporal_df_dgt['FEC_TRAMITE']\n",
    "temporal_df_dgt"
   ]
  },
  {
   "cell_type": "code",
   "execution_count": null,
   "id": "517bad34",
   "metadata": {},
   "outputs": [],
   "source": [
    "temporal_df_dgt = temporal_df_dgt.set_index('FEC_TRAMITE')"
   ]
  },
  {
   "cell_type": "code",
   "execution_count": null,
   "id": "554006ac",
   "metadata": {},
   "outputs": [],
   "source": [
    "temporal_df_dgt"
   ]
  },
  {
   "cell_type": "code",
   "execution_count": null,
   "id": "58d7691b",
   "metadata": {},
   "outputs": [],
   "source": []
  },
  {
   "cell_type": "code",
   "execution_count": null,
   "id": "83e3a05f",
   "metadata": {},
   "outputs": [],
   "source": []
  },
  {
   "cell_type": "code",
   "execution_count": null,
   "id": "f38bd16e",
   "metadata": {},
   "outputs": [],
   "source": [
    "idx = pd.date_range(start = temporal_df_dgt[\"date\"].min(), end = temporal_df_dgt[\"date\"].max() , freq=\"d\").difference(temporal_df_dgt[\"date\"])"
   ]
  },
  {
   "cell_type": "code",
   "execution_count": null,
   "id": "4a184a29",
   "metadata": {},
   "outputs": [],
   "source": [
    "idx"
   ]
  },
  {
   "cell_type": "code",
   "execution_count": null,
   "id": "a7b5c015",
   "metadata": {},
   "outputs": [],
   "source": [
    "temporal_df_dgt_no_data = pd.DataFrame({'FEC_TRAMITE': idx})\n",
    "temporal_df_dgt_no_data"
   ]
  },
  {
   "cell_type": "code",
   "execution_count": null,
   "id": "6dbd93e1",
   "metadata": {},
   "outputs": [],
   "source": [
    "temporal_df_dgt_no_data['date'] = temporal_df_dgt_no_data['FEC_TRAMITE']\n",
    "temporal_df_dgt_no_data"
   ]
  },
  {
   "cell_type": "code",
   "execution_count": null,
   "id": "6d01ab4d",
   "metadata": {},
   "outputs": [],
   "source": [
    "temporal_df_dgt_no_data['count'] = 0\n",
    "temporal_df_dgt_no_data"
   ]
  },
  {
   "cell_type": "code",
   "execution_count": null,
   "id": "46ae4f32",
   "metadata": {},
   "outputs": [],
   "source": [
    "temporal_df_dgt_no_data = temporal_df_dgt_no_data.set_index('FEC_TRAMITE')\n",
    "temporal_df_dgt_no_data"
   ]
  },
  {
   "cell_type": "code",
   "execution_count": null,
   "id": "d63886ea",
   "metadata": {},
   "outputs": [],
   "source": []
  },
  {
   "cell_type": "code",
   "execution_count": null,
   "id": "3195f7ae",
   "metadata": {},
   "outputs": [],
   "source": []
  },
  {
   "cell_type": "code",
   "execution_count": null,
   "id": "607cda9a",
   "metadata": {},
   "outputs": [],
   "source": []
  },
  {
   "cell_type": "code",
   "execution_count": null,
   "id": "7b6a6e0d",
   "metadata": {},
   "outputs": [],
   "source": []
  },
  {
   "cell_type": "code",
   "execution_count": null,
   "id": "c210ac0c",
   "metadata": {},
   "outputs": [],
   "source": [
    "frames = [temporal_df_dgt, temporal_df_dgt_no_data]\n",
    "\n",
    "result_dgt = pd.concat(frames)"
   ]
  },
  {
   "cell_type": "code",
   "execution_count": null,
   "id": "668c3496",
   "metadata": {},
   "outputs": [],
   "source": [
    "result_dgt.sort_values('date', ascending=False)"
   ]
  },
  {
   "cell_type": "code",
   "execution_count": null,
   "id": "03e8c339",
   "metadata": {},
   "outputs": [],
   "source": []
  },
  {
   "cell_type": "code",
   "execution_count": null,
   "id": "7da1af23",
   "metadata": {},
   "outputs": [],
   "source": []
  },
  {
   "cell_type": "code",
   "execution_count": null,
   "id": "1b1fd1fe",
   "metadata": {},
   "outputs": [],
   "source": []
  },
  {
   "cell_type": "code",
   "execution_count": null,
   "id": "2a29335c",
   "metadata": {},
   "outputs": [],
   "source": []
  },
  {
   "cell_type": "code",
   "execution_count": null,
   "id": "f04c329d",
   "metadata": {},
   "outputs": [],
   "source": []
  },
  {
   "cell_type": "code",
   "execution_count": null,
   "id": "f2f13bf7",
   "metadata": {},
   "outputs": [],
   "source": [
    "fig, ax = plt.subplots(figsize=(20,10))\n",
    "\n",
    "sns.lineplot(data=result_dgt, x='date', y='count', ax=ax)"
   ]
  },
  {
   "cell_type": "code",
   "execution_count": null,
   "id": "6a7e1115",
   "metadata": {},
   "outputs": [],
   "source": [
    "def is_weekend(day_week):\n",
    "    if (day_week == 'Saturday' or day_week == 'Sunday'):\n",
    "        return 1.0\n",
    "    else:\n",
    "        return 0.0\n",
    "    return False"
   ]
  },
  {
   "cell_type": "code",
   "execution_count": null,
   "id": "939032d1",
   "metadata": {},
   "outputs": [],
   "source": [
    "result_dgt['is_weekend'] = result_dgt['date'].dt.day_name().apply(lambda x: is_weekend(x))"
   ]
  },
  {
   "cell_type": "code",
   "execution_count": null,
   "id": "f19b692b",
   "metadata": {},
   "outputs": [],
   "source": [
    "result_dgt.sort_values('date', ascending=True)"
   ]
  },
  {
   "cell_type": "code",
   "execution_count": null,
   "id": "b828ece2",
   "metadata": {},
   "outputs": [],
   "source": []
  },
  {
   "cell_type": "code",
   "execution_count": null,
   "id": "0fe8f76f",
   "metadata": {},
   "outputs": [],
   "source": []
  },
  {
   "cell_type": "code",
   "execution_count": null,
   "id": "9769568a",
   "metadata": {},
   "outputs": [],
   "source": []
  },
  {
   "cell_type": "code",
   "execution_count": null,
   "id": "d0b09e60",
   "metadata": {},
   "outputs": [],
   "source": [
    "x = np.arange(len(result_dgt))\n",
    "\n",
    "result_dgt[\"s_period_week\"] = np.sin(2*np.pi*x/7)\n",
    "result_dgt[\"s_period_month\"] = np.sin(2*np.pi*x/30.5)\n",
    "result_dgt[\"s_period_year\"] = np.sin(2*np.pi*x/365 )\n",
    "\n",
    "result_dgt[\"c_period_week\"] = np.cos(2*np.pi*x/7)\n",
    "result_dgt[\"c_period_month\"] = np.cos(2*np.pi*x/30.5)\n",
    "result_dgt[\"c_period_year\"] = np.cos(2*np.pi*x/365 )"
   ]
  },
  {
   "cell_type": "code",
   "execution_count": null,
   "id": "13aefd9d",
   "metadata": {},
   "outputs": [],
   "source": []
  },
  {
   "cell_type": "code",
   "execution_count": null,
   "id": "759c971e",
   "metadata": {},
   "outputs": [],
   "source": [
    "result_dgt.sort_values('date', ascending=True)"
   ]
  },
  {
   "cell_type": "code",
   "execution_count": null,
   "id": "fff391ba",
   "metadata": {},
   "outputs": [],
   "source": []
  },
  {
   "cell_type": "code",
   "execution_count": null,
   "id": "05825f64",
   "metadata": {},
   "outputs": [],
   "source": []
  },
  {
   "cell_type": "code",
   "execution_count": null,
   "id": "a9a224df",
   "metadata": {},
   "outputs": [],
   "source": []
  },
  {
   "cell_type": "code",
   "execution_count": null,
   "id": "28d159c1",
   "metadata": {},
   "outputs": [],
   "source": [
    "result_dgt[(result_dgt['count'] == 0) & (result_dgt['is_weekend'] == 1.0)]['count']"
   ]
  },
  {
   "cell_type": "code",
   "execution_count": null,
   "id": "0fdd5bcf",
   "metadata": {},
   "outputs": [],
   "source": [
    "result_dgt[(result_dgt['count'] != 0) & (result_dgt['is_weekend'] == 1.0)]['count'].mean()"
   ]
  },
  {
   "cell_type": "code",
   "execution_count": null,
   "id": "66c6b050",
   "metadata": {},
   "outputs": [],
   "source": [
    "result_dgt[(result_dgt['count'] == 0) & (result_dgt['is_weekend'] == 0.0)]['count']"
   ]
  },
  {
   "cell_type": "code",
   "execution_count": null,
   "id": "2abe1971",
   "metadata": {},
   "outputs": [],
   "source": [
    "result_dgt[(result_dgt['count'] != 0) & (result_dgt['is_weekend'] == 0.0)]['count'].mean()"
   ]
  },
  {
   "cell_type": "code",
   "execution_count": null,
   "id": "09b41a78",
   "metadata": {},
   "outputs": [],
   "source": []
  },
  {
   "cell_type": "code",
   "execution_count": null,
   "id": "ae82a4c9",
   "metadata": {},
   "outputs": [],
   "source": [
    "result_dgt.loc[(result_dgt['count'] == 0) & (result_dgt['is_weekend'] == 1.0),'count'] = result_dgt[(result_dgt['count'] != 0) & (result_dgt['is_weekend'] == 1.0)]['count'].mean()"
   ]
  },
  {
   "cell_type": "code",
   "execution_count": null,
   "id": "bda08e87",
   "metadata": {},
   "outputs": [],
   "source": [
    "result_dgt.loc[(result_dgt['count'] == 0) & (result_dgt['is_weekend'] == 0.0),'count'] = result_dgt[(result_dgt['count'] != 0) & (result_dgt['is_weekend'] == 0.0)]['count'].mean()"
   ]
  },
  {
   "cell_type": "code",
   "execution_count": null,
   "id": "fc40b6e0",
   "metadata": {},
   "outputs": [],
   "source": []
  },
  {
   "cell_type": "code",
   "execution_count": null,
   "id": "403eae81",
   "metadata": {},
   "outputs": [],
   "source": [
    "result_dgt[(result_dgt['count'] == 0) & (result_dgt['is_weekend'] == 1.0)]"
   ]
  },
  {
   "cell_type": "code",
   "execution_count": null,
   "id": "e3ed8642",
   "metadata": {},
   "outputs": [],
   "source": [
    "result_dgt[(result_dgt['count'] == 0) & (result_dgt['is_weekend'] == 0.0)]"
   ]
  },
  {
   "cell_type": "code",
   "execution_count": null,
   "id": "b3629248",
   "metadata": {},
   "outputs": [],
   "source": [
    "result_dgt[result_dgt['date'] == '2015-02-21']"
   ]
  },
  {
   "cell_type": "code",
   "execution_count": null,
   "id": "3f7b7d5c",
   "metadata": {},
   "outputs": [],
   "source": []
  },
  {
   "cell_type": "code",
   "execution_count": null,
   "id": "d5bf512d",
   "metadata": {},
   "outputs": [],
   "source": []
  },
  {
   "cell_type": "code",
   "execution_count": null,
   "id": "f9aa703a",
   "metadata": {},
   "outputs": [],
   "source": []
  },
  {
   "cell_type": "code",
   "execution_count": null,
   "id": "743e5878",
   "metadata": {},
   "outputs": [],
   "source": []
  },
  {
   "cell_type": "code",
   "execution_count": null,
   "id": "a0f5559e",
   "metadata": {},
   "outputs": [],
   "source": []
  },
  {
   "cell_type": "code",
   "execution_count": null,
   "id": "67ab064d",
   "metadata": {},
   "outputs": [],
   "source": [
    "fig, ax = plt.subplots(figsize=(20,10))\n",
    "\n",
    "sns.lineplot(data=result_dgt, x='date', y='count', ax=ax)"
   ]
  },
  {
   "cell_type": "code",
   "execution_count": null,
   "id": "43927f3f",
   "metadata": {},
   "outputs": [],
   "source": [
    "fig, ax = plt.subplots(figsize=(20,10))\n",
    "\n",
    "sns.lineplot(data=result_dgt[result_dgt['date'] >= '2021-08-01' ], x='date', y='count', ax=ax)"
   ]
  },
  {
   "cell_type": "code",
   "execution_count": null,
   "id": "fd08e1b5",
   "metadata": {},
   "outputs": [],
   "source": []
  },
  {
   "cell_type": "code",
   "execution_count": null,
   "id": "237ffd10",
   "metadata": {},
   "outputs": [],
   "source": []
  },
  {
   "cell_type": "code",
   "execution_count": null,
   "id": "a6bfbf38",
   "metadata": {},
   "outputs": [],
   "source": []
  },
  {
   "cell_type": "code",
   "execution_count": null,
   "id": "f3feb1bc",
   "metadata": {},
   "outputs": [],
   "source": []
  },
  {
   "cell_type": "code",
   "execution_count": null,
   "id": "32124dca",
   "metadata": {},
   "outputs": [],
   "source": [
    "result_dgt.dtypes"
   ]
  },
  {
   "cell_type": "code",
   "execution_count": null,
   "id": "111d1807",
   "metadata": {},
   "outputs": [],
   "source": [
    "result_dgt.columns"
   ]
  },
  {
   "cell_type": "code",
   "execution_count": null,
   "id": "8fc788cc",
   "metadata": {},
   "outputs": [],
   "source": []
  },
  {
   "cell_type": "code",
   "execution_count": null,
   "id": "c659c525",
   "metadata": {},
   "outputs": [],
   "source": []
  },
  {
   "cell_type": "code",
   "execution_count": null,
   "id": "d34eebea",
   "metadata": {},
   "outputs": [],
   "source": []
  },
  {
   "cell_type": "code",
   "execution_count": null,
   "id": "d55a88cf",
   "metadata": {},
   "outputs": [],
   "source": [
    "X = result_dgt[[\n",
    "    'date', 'is_weekend', 's_period_week', 's_period_week', 's_period_year', 'c_period_week', 'c_period_week', 'c_period_year'\n",
    "]]\n",
    "\n",
    "y = result_dgt[['date','count']]"
   ]
  },
  {
   "cell_type": "code",
   "execution_count": null,
   "id": "399f76b6",
   "metadata": {},
   "outputs": [],
   "source": [
    "X"
   ]
  },
  {
   "cell_type": "code",
   "execution_count": null,
   "id": "66b265d4",
   "metadata": {},
   "outputs": [],
   "source": []
  },
  {
   "cell_type": "code",
   "execution_count": null,
   "id": "1a9a6831",
   "metadata": {},
   "outputs": [],
   "source": []
  },
  {
   "cell_type": "code",
   "execution_count": null,
   "id": "f55f6a7d",
   "metadata": {},
   "outputs": [],
   "source": []
  },
  {
   "cell_type": "code",
   "execution_count": null,
   "id": "a2018eeb",
   "metadata": {},
   "outputs": [],
   "source": []
  },
  {
   "cell_type": "code",
   "execution_count": null,
   "id": "563cfcf8",
   "metadata": {},
   "outputs": [],
   "source": [
    "# Hacemos las pruebas con los últimos 4 meses\n",
    "train_X = np.arange(len(X.index))[:-4*30]\n",
    "test_X = np.arange(len(X.index))[-4*30:]\n",
    "\n",
    "train_y = np.arange(len(y.index))[:-4*30]\n",
    "test_y = np.arange(len(y.index))[-4*30:]"
   ]
  },
  {
   "cell_type": "code",
   "execution_count": null,
   "id": "e1a6eb32",
   "metadata": {},
   "outputs": [],
   "source": [
    "train_X = X[X['date'] < '2021-09-01']\n",
    "test_X = X[X['date'] >= '2021-09-01']\n",
    "\n",
    "train_y = y[y['date'] < '2021-09-01']\n",
    "test_y = y[y['date'] >= '2021-09-01']"
   ]
  },
  {
   "cell_type": "code",
   "execution_count": null,
   "id": "bbce1829",
   "metadata": {},
   "outputs": [],
   "source": [
    "X = X[['is_weekend', 's_period_week', 's_period_week', 's_period_year', 'c_period_week', 'c_period_week', 'c_period_year']]\n",
    "y = y['count']\n",
    "\n",
    "train_X = train_X[['is_weekend', 's_period_week', 's_period_week', 's_period_year', 'c_period_week', 'c_period_week', 'c_period_year']]\n",
    "test_X = test_X[['is_weekend', 's_period_week', 's_period_week', 's_period_year', 'c_period_week', 'c_period_week', 'c_period_year']]\n",
    "\n",
    "train_y = train_y['count']\n",
    "test_y = test_y['count']"
   ]
  },
  {
   "cell_type": "code",
   "execution_count": null,
   "id": "c1076d27",
   "metadata": {},
   "outputs": [],
   "source": []
  },
  {
   "cell_type": "code",
   "execution_count": null,
   "id": "45323d78",
   "metadata": {},
   "outputs": [],
   "source": []
  },
  {
   "cell_type": "code",
   "execution_count": null,
   "id": "62da9651",
   "metadata": {},
   "outputs": [],
   "source": []
  },
  {
   "cell_type": "code",
   "execution_count": null,
   "id": "35c8f367",
   "metadata": {},
   "outputs": [],
   "source": [
    "?RandomForestRegressor"
   ]
  },
  {
   "cell_type": "code",
   "execution_count": null,
   "id": "2ed6aebc",
   "metadata": {},
   "outputs": [],
   "source": [
    "rf = RandomForestRegressor(n_estimators=600, min_samples_split=5, oob_score=True, max_depth=5)\n",
    "rf.fit(train_X, train_y)"
   ]
  },
  {
   "cell_type": "code",
   "execution_count": null,
   "id": "4b326a6d",
   "metadata": {},
   "outputs": [],
   "source": [
    "rf.oob_score_"
   ]
  },
  {
   "cell_type": "code",
   "execution_count": null,
   "id": "3b1f3be0",
   "metadata": {},
   "outputs": [],
   "source": [
    "rf.predict(train_X)"
   ]
  },
  {
   "cell_type": "code",
   "execution_count": null,
   "id": "a9ad9b7b",
   "metadata": {},
   "outputs": [],
   "source": []
  },
  {
   "cell_type": "code",
   "execution_count": null,
   "id": "7ed0462b",
   "metadata": {},
   "outputs": [],
   "source": [
    "y_hat = rf.predict(test_X)\n",
    "\n",
    "test_score = r2_score(test_y, y_hat)\n",
    "\n",
    "\n",
    "print(f'Out-of-bag R-2 score estimate: {rf.oob_score_:>5.3}')\n",
    "print(f'Test data R-2 score: {test_score:>5.3}')"
   ]
  },
  {
   "cell_type": "code",
   "execution_count": null,
   "id": "7bba7e43",
   "metadata": {},
   "outputs": [],
   "source": [
    "\n"
   ]
  },
  {
   "cell_type": "code",
   "execution_count": null,
   "id": "6d3d93ea",
   "metadata": {},
   "outputs": [],
   "source": [
    "from sklearn.model_selection import cross_val_score\n",
    "\n",
    "cross_val_score(X=train_X,y=train_y, estimator=rf )"
   ]
  },
  {
   "cell_type": "code",
   "execution_count": null,
   "id": "2b43523b",
   "metadata": {},
   "outputs": [],
   "source": []
  },
  {
   "cell_type": "code",
   "execution_count": null,
   "id": "35fcc387",
   "metadata": {},
   "outputs": [],
   "source": []
  },
  {
   "cell_type": "code",
   "execution_count": null,
   "id": "29fb91fd",
   "metadata": {},
   "outputs": [],
   "source": [
    "\n",
    "grid = {\n",
    "    'n_estimators': [100, 200, 300, 400, 500],\n",
    "    'max_depth': [5, 10, 15, 20],\n",
    "    'min_samples_split': [2, 4, 6, 8, 10],\n",
    "    'max_leaf_nodes': [5,10,25,50,100]\n",
    "}\n",
    "\n",
    "\n",
    "grid_search = GridSearchCV(\n",
    "    RandomForestRegressor(),\n",
    "    param_grid=grid,\n",
    "    scoring=\"neg_mean_squared_error\",\n",
    "    verbose=2\n",
    ")"
   ]
  },
  {
   "cell_type": "code",
   "execution_count": null,
   "id": "c2a8cf8e",
   "metadata": {},
   "outputs": [],
   "source": [
    "grid_search.fit(train_X,train_y)"
   ]
  },
  {
   "cell_type": "code",
   "execution_count": null,
   "id": "2e6fce5b",
   "metadata": {},
   "outputs": [],
   "source": [
    "grid_search.best_params_"
   ]
  },
  {
   "cell_type": "code",
   "execution_count": null,
   "id": "640ca74c",
   "metadata": {},
   "outputs": [],
   "source": []
  },
  {
   "cell_type": "code",
   "execution_count": null,
   "id": "f3c77fc4",
   "metadata": {},
   "outputs": [],
   "source": [
    "pd.DataFrame(grid_search.cv_results_)"
   ]
  },
  {
   "cell_type": "code",
   "execution_count": null,
   "id": "23004104",
   "metadata": {},
   "outputs": [],
   "source": []
  },
  {
   "cell_type": "code",
   "execution_count": null,
   "id": "d4e62d36",
   "metadata": {},
   "outputs": [],
   "source": []
  },
  {
   "cell_type": "code",
   "execution_count": null,
   "id": "e4a87500",
   "metadata": {},
   "outputs": [],
   "source": []
  },
  {
   "cell_type": "code",
   "execution_count": null,
   "id": "61933204",
   "metadata": {},
   "outputs": [],
   "source": []
  },
  {
   "cell_type": "code",
   "execution_count": null,
   "id": "4af371ba",
   "metadata": {},
   "outputs": [],
   "source": []
  },
  {
   "cell_type": "code",
   "execution_count": null,
   "id": "8f32a300",
   "metadata": {},
   "outputs": [],
   "source": []
  },
  {
   "cell_type": "code",
   "execution_count": null,
   "id": "1b0dff78",
   "metadata": {},
   "outputs": [],
   "source": []
  },
  {
   "cell_type": "code",
   "execution_count": null,
   "id": "89d5f289",
   "metadata": {},
   "outputs": [],
   "source": [
    "rf_final = RandomForestRegressor(n_estimators=200, min_samples_split=6, oob_score=True, max_depth=5)\n",
    "rf_final.fit(train_X, train_y)"
   ]
  },
  {
   "cell_type": "code",
   "execution_count": null,
   "id": "3a447be1",
   "metadata": {},
   "outputs": [],
   "source": [
    "rf_final.oob_score_"
   ]
  },
  {
   "cell_type": "code",
   "execution_count": null,
   "id": "f91297fb",
   "metadata": {},
   "outputs": [],
   "source": [
    "rf_final.predict(train_X)"
   ]
  },
  {
   "cell_type": "code",
   "execution_count": null,
   "id": "aed2e286",
   "metadata": {},
   "outputs": [],
   "source": [
    "y_hat = rf.predict(test_X)\n",
    "\n",
    "test_score = r2_score(test_y, y_hat)\n",
    "\n",
    "\n",
    "print(f'Out-of-bag R-2 score estimate: {rf.oob_score_:>5.3}')\n",
    "print(f'Test data R-2 score: {test_score:>5.3}')"
   ]
  },
  {
   "cell_type": "code",
   "execution_count": null,
   "id": "5bec0bf2",
   "metadata": {},
   "outputs": [],
   "source": []
  },
  {
   "cell_type": "code",
   "execution_count": null,
   "id": "ddaffa4c",
   "metadata": {},
   "outputs": [],
   "source": []
  },
  {
   "cell_type": "code",
   "execution_count": null,
   "id": "df81ce41",
   "metadata": {},
   "outputs": [],
   "source": []
  },
  {
   "cell_type": "code",
   "execution_count": null,
   "id": "271ad9e6",
   "metadata": {},
   "outputs": [],
   "source": []
  },
  {
   "cell_type": "code",
   "execution_count": null,
   "id": "3b423208",
   "metadata": {},
   "outputs": [],
   "source": [
    "len(grid_search.predict(test_X))"
   ]
  },
  {
   "cell_type": "code",
   "execution_count": null,
   "id": "950cd448",
   "metadata": {},
   "outputs": [],
   "source": [
    "len(test_X.index)"
   ]
  },
  {
   "cell_type": "code",
   "execution_count": null,
   "id": "d7f5f073",
   "metadata": {},
   "outputs": [],
   "source": [
    "df_graph_final = test_X.copy()"
   ]
  },
  {
   "cell_type": "code",
   "execution_count": null,
   "id": "6fb4f763",
   "metadata": {},
   "outputs": [],
   "source": [
    "df_graph_final.sample(10)"
   ]
  },
  {
   "cell_type": "code",
   "execution_count": null,
   "id": "b83b3619",
   "metadata": {},
   "outputs": [],
   "source": [
    "df_graph_final['date'] = df_graph_final.index"
   ]
  },
  {
   "cell_type": "code",
   "execution_count": null,
   "id": "3f6a835d",
   "metadata": {},
   "outputs": [],
   "source": [
    "df_graph_final.sample(10)"
   ]
  },
  {
   "cell_type": "code",
   "execution_count": null,
   "id": "e8732aa8",
   "metadata": {},
   "outputs": [],
   "source": [
    "df_graph_final['count'] = grid_search.predict(test_X)"
   ]
  },
  {
   "cell_type": "code",
   "execution_count": null,
   "id": "43ab5096",
   "metadata": {},
   "outputs": [],
   "source": []
  },
  {
   "cell_type": "code",
   "execution_count": null,
   "id": "2e1ddcf3",
   "metadata": {},
   "outputs": [],
   "source": []
  },
  {
   "cell_type": "code",
   "execution_count": null,
   "id": "e2be6286",
   "metadata": {},
   "outputs": [],
   "source": []
  },
  {
   "cell_type": "code",
   "execution_count": null,
   "id": "a207a19b",
   "metadata": {},
   "outputs": [],
   "source": [
    "fig, ax = plt.subplots(figsize=(20,10))\n",
    "\n",
    "sns.lineplot(data=result_dgt[result_dgt['date'] >= '2021-08-01' ], x='date', y='count', ax=ax, color='blue', label='Datos reales')\n",
    "sns.lineplot(data=df_graph_final, x='date', y='count', ax=ax, color='red', label='Predicción')"
   ]
  },
  {
   "cell_type": "code",
   "execution_count": null,
   "id": "95300b67",
   "metadata": {},
   "outputs": [],
   "source": []
  }
 ],
 "metadata": {
  "kernelspec": {
   "display_name": "Python 3 (ipykernel)",
   "language": "python",
   "name": "python3"
  },
  "language_info": {
   "codemirror_mode": {
    "name": "ipython",
    "version": 3
   },
   "file_extension": ".py",
   "mimetype": "text/x-python",
   "name": "python",
   "nbconvert_exporter": "python",
   "pygments_lexer": "ipython3",
   "version": "3.7.7"
  }
 },
 "nbformat": 4,
 "nbformat_minor": 5
}
