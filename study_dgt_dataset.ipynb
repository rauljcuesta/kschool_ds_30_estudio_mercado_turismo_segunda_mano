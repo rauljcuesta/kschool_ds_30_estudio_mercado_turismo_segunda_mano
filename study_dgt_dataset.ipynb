{
 "cells": [
  {
   "cell_type": "code",
   "execution_count": null,
   "id": "4559f980",
   "metadata": {},
   "outputs": [],
   "source": [
    "!pip install sweetviz"
   ]
  },
  {
   "cell_type": "code",
   "execution_count": null,
   "id": "f436558f",
   "metadata": {},
   "outputs": [],
   "source": []
  },
  {
   "cell_type": "code",
   "execution_count": null,
   "id": "6dc658f5",
   "metadata": {},
   "outputs": [],
   "source": [
    "import os\n",
    "import sys\n",
    "import pandas as pd\n",
    "import math\n",
    "\n",
    "os.chdir('./scripts')\n",
    "\n",
    "import load_config\n",
    "import matplotlib.pyplot as plt\n",
    "import sweetviz as sv\n",
    "import numpy as np\n",
    "import seaborn as sns\n",
    "import datetime"
   ]
  },
  {
   "cell_type": "code",
   "execution_count": null,
   "id": "1b0590dd",
   "metadata": {},
   "outputs": [],
   "source": []
  },
  {
   "cell_type": "code",
   "execution_count": null,
   "id": "54903dcf",
   "metadata": {},
   "outputs": [],
   "source": [
    "os.getcwd()"
   ]
  },
  {
   "cell_type": "code",
   "execution_count": null,
   "id": "54e369d8",
   "metadata": {},
   "outputs": [],
   "source": [
    "pd.set_option('display.max_columns', None)\n",
    "pd.set_option('display.max_rows', 100)"
   ]
  },
  {
   "cell_type": "code",
   "execution_count": null,
   "id": "c5a5366f",
   "metadata": {},
   "outputs": [],
   "source": [
    "config = load_config.load_config_const()\n",
    "plt.style.use('seaborn')"
   ]
  },
  {
   "cell_type": "code",
   "execution_count": null,
   "id": "2329895f",
   "metadata": {},
   "outputs": [],
   "source": [
    "config['files_dgt']"
   ]
  },
  {
   "cell_type": "code",
   "execution_count": null,
   "id": "c921e72b",
   "metadata": {},
   "outputs": [],
   "source": []
  },
  {
   "cell_type": "code",
   "execution_count": null,
   "id": "3aa44eb9",
   "metadata": {},
   "outputs": [],
   "source": [
    "def cod_postal_zero_int_repair(cod_postal):\n",
    "    if (not math.isnan( cod_postal )):\n",
    "        cod_postal = int(cod_postal)\n",
    "        if ( len(str(cod_postal)) == 5 ):\n",
    "            return str(cod_postal)\n",
    "        elif ( len(str(int(cod_postal))) == 4 ):\n",
    "            return '0'+str(int(cod_postal))\n",
    "        else:\n",
    "            return int(cod_postal)\n",
    "    else:\n",
    "        return cod_postal"
   ]
  },
  {
   "cell_type": "code",
   "execution_count": null,
   "id": "74815005",
   "metadata": {},
   "outputs": [],
   "source": [
    "def return_id_province_by_zip(cod_postal):\n",
    "    if (cod_postal):\n",
    "        cod_postal = str(cod_postal)\n",
    "        return cod_postal[0:2]\n",
    "    else:\n",
    "        return cod_postal"
   ]
  },
  {
   "cell_type": "code",
   "execution_count": null,
   "id": "67ff6692",
   "metadata": {},
   "outputs": [],
   "source": [
    "def is_weekend(day_week):\n",
    "    if (day_week == 'Saturday' or day_week == 'Sunday'):\n",
    "        return True\n",
    "    else:\n",
    "        return False"
   ]
  },
  {
   "cell_type": "code",
   "execution_count": null,
   "id": "4c3eb694",
   "metadata": {},
   "outputs": [],
   "source": [
    "def is_weekend(day_week):\n",
    "    if (day_week == 'Saturday' or day_week == 'Sunday'):\n",
    "        return True\n",
    "    else:\n",
    "        return False"
   ]
  },
  {
   "cell_type": "code",
   "execution_count": null,
   "id": "1060bfb3",
   "metadata": {},
   "outputs": [],
   "source": [
    "def return_province(id_province):\n",
    "    list_ids_province = {\n",
    "        '01': 'Álava',\n",
    "        '08': 'Barcelona',\n",
    "        '15': 'La Coruña',\n",
    "        '23': 'Jaén',\n",
    "        '30': 'Murcia',\n",
    "        '38': 'Santa Cruz de Tenerife',\n",
    "        '45': 'Toledo',\n",
    "        '02': 'Albacete',\n",
    "        '09': 'Burgos',\n",
    "        '16': 'Cuenca',\n",
    "        '24': 'León',\n",
    "        '31': 'Navarra',\n",
    "        '46': 'Valencia',\n",
    "        '03': 'Alicante',\n",
    "        '10': 'Cáceres',\n",
    "        '17': 'Gerona',\n",
    "        '25': 'Lérida',\n",
    "        '32': 'Orense',\n",
    "        '39': 'Cantabria',\n",
    "        '47': 'Valladolid',\n",
    "        '04': 'Almería',\n",
    "        '11': 'Cádiz',\n",
    "        '18': 'Granada',\n",
    "        '26': 'La Rioja',\n",
    "        '33': 'Asturias',\n",
    "        '40': 'Segovia',\n",
    "        '48': 'Vizcaya',\n",
    "        '05': 'Ávila',\n",
    "        '12': 'Castellón',\n",
    "        '19': 'Guadalajara',\n",
    "        '34': 'Palencia',\n",
    "        '41': 'Sevilla',\n",
    "        '49': 'Zamora',\n",
    "        '06': 'Badajoz',\n",
    "        '13': 'Ciudad Real',\n",
    "        '20': 'Guipúzcoa',\n",
    "        '27': 'Lugo',\n",
    "        '35': 'Las Palmas',\n",
    "        '42': 'Soria',\n",
    "        '50': 'Zaragoza',\n",
    "        '07': 'Islas Baleares',\n",
    "        '21': 'Huelva',\n",
    "        '28': 'Madrid',\n",
    "        '36': 'Pontevedra',\n",
    "        '43': 'Tarragona',\n",
    "        '51': 'Ceuta',\n",
    "        '14': 'Córdoba',\n",
    "        '22': 'Huesca',\n",
    "        '29': 'Málaga',\n",
    "        '37': 'Salamanca',\n",
    "        '44': 'Teruel',\n",
    "        '52': 'Melilla'\n",
    "    }\n",
    "    \n",
    "    return list_ids_province.get(id_province)"
   ]
  },
  {
   "cell_type": "code",
   "execution_count": null,
   "id": "9077200a",
   "metadata": {},
   "outputs": [],
   "source": [
    "def return_make(make):\n",
    "    list_makes = {\n",
    "        'ABARTH': 'ABARTH',\n",
    "        'ALFA': 'ALFA ROMEO',\n",
    "        'ALFA ROMEO': '',\n",
    "        'ASTON MARTIN': 'ASTON MARTIN',\n",
    "        'AUDI': 'AUDI',\n",
    "        'BENTLEY': 'BENTLEY',\n",
    "        'BMW': 'BMW',\n",
    "        'BMW I': 'BMW',\n",
    "        'CADILLAC': 'CADILLAC',\n",
    "        'CHEVROLET': 'CHEVROLET',\n",
    "        'CHRYSLER': 'CHRYSLER',\n",
    "        'CITROEN': 'CITROEN',\n",
    "        'CUPRA': 'CUPRA',\n",
    "        'DACIA': 'DACIA',\n",
    "        'DAEWOO': 'DAEWOO',\n",
    "        'DAIHATSU': 'DAIHATSU',\n",
    "        'DAIMLER': 'DAIMLER',\n",
    "        'DAIMLER AG': 'DAIMLER',\n",
    "        'DAIMLER CHRYSLER': 'CHRYSLER',\n",
    "        'DODGE': 'DODGE',\n",
    "        'DS': 'DS',\n",
    "        'FERRARI': 'FERRARI',\n",
    "        'FIAT': 'FIAT',\n",
    "        'FORD': 'FORD',\n",
    "        'FORD CNG TECHNIK': 'FORD',\n",
    "        'FORD-CNG-TECHNIK': 'FORD',\n",
    "        'GMC': 'GMC',\n",
    "        'HONDA': 'HONDA',\n",
    "        'HUMMER': 'HUMMER',\n",
    "        'HYUNDAI': 'HYUNDAI',\n",
    "        'INFINITI': 'INFINITI',\n",
    "        'ISUZU': 'ISUZU',\n",
    "        'IVECO': 'IVECO',\n",
    "        'JAGUAR': 'JAGUAR',\n",
    "        'JAGUAR LAND ROVER LIMIT': 'LAND-ROVER',\n",
    "        'JEEP': 'JEEP',\n",
    "        'KIA': 'KIA',\n",
    "        'LADA': 'LADA',\n",
    "        'LAMBORGHINI': 'LAMBORGHINI',\n",
    "        'LANCIA': 'LANCIA',\n",
    "        'LAND ROVER': 'LAND-ROVER',\n",
    "        'LEXUS': 'LEXUS',\n",
    "        'LOTUS': 'LOTUS',\n",
    "        'M.G': 'MG',\n",
    "        'MAHINDRA': 'MAHINDRA',\n",
    "        'MASERATI': 'MASERATI',\n",
    "        'MAZDA': 'MAZDA',\n",
    "        'MCC SMART': 'SMART',\n",
    "        'MCLAREN': 'MCLAREN',\n",
    "        'MERCEDES': 'MERCEDES-BENZ',\n",
    "        'MERCEDES-AMG': 'MERCEDES-BENZ',\n",
    "        'MERCEDES-BENZ': 'MERCEDES-BENZ',\n",
    "        'MG': 'MG',\n",
    "        'MICRO COMPACT CAR': 'SMART',\n",
    "        'MINI': 'MINI',\n",
    "        'MITSUBISHI': 'MITSUBISHI',\n",
    "        'NISSAN': 'NISSAN',\n",
    "        'OPEL': 'OPEL',\n",
    "        'PEUGEOT': 'PEUGEOT',\n",
    "        'PORSCHE': 'PORSCHE',\n",
    "        'QUATTRO': 'AUDI',\n",
    "        'RANGE ROVER': 'ROVER',\n",
    "        'RENAULT': 'RENAULT',\n",
    "        'ROVER': 'ROVER',\n",
    "        'SAAB': 'SAAB',\n",
    "        'SANTANA': 'SANTANA',\n",
    "        'SEAT': 'SEAT',\n",
    "        'SEAT FIAT': 'SEAT',\n",
    "        'SKODA': 'SKODA',\n",
    "        'SMART': 'SMART',\n",
    "        'SSANGYONG': 'SSANGYONG',\n",
    "        'SUBARU': 'SUBARU',\n",
    "        'SUZUKI': 'SUZUKI',\n",
    "        'SUZUKI SANTANA': 'SANTANA',\n",
    "        'TATA': 'TATA',\n",
    "        'TESLA': 'TESLA',\n",
    "        'TESLA MOTORS': 'TESLA',\n",
    "        'TOYOTA': 'TOYOTA',\n",
    "        'VOLKSWAGEN': 'VOLKSWAGEN',\n",
    "        'VOLKSWAGEN V W': 'VOLKSWAGEN',\n",
    "        'VOLVO': 'VOLVO',\n",
    "    }\n",
    "    \n",
    "    return list_makes.get(make)"
   ]
  },
  {
   "cell_type": "code",
   "execution_count": null,
   "id": "923dad2f",
   "metadata": {},
   "outputs": [],
   "source": [
    "def return_avaliable_makes():\n",
    "    return [\n",
    "        'ABARTH',\n",
    "        'ALFA',\n",
    "        'ALFA ROMEO',\n",
    "        'ASTON MARTIN',\n",
    "        'AUDI',\n",
    "        'BENTLEY',\n",
    "        'BMW',\n",
    "        'BMW I',\n",
    "        'CADILLAC',\n",
    "        'CHEVROLET',\n",
    "        'CHRYSLER',\n",
    "        'CITROEN',\n",
    "        'CUPRA',\n",
    "        'DACIA',\n",
    "        'DAEWOO',\n",
    "        'DAIHATSU',\n",
    "        'DAIMLER',\n",
    "        'DAIMLER AG',\n",
    "        'DAIMLER CHRYSLER',\n",
    "        'DODGE',\n",
    "        'DS',\n",
    "        'FERRARI',\n",
    "        'FIAT',\n",
    "        'FORD',\n",
    "        'FORD CNG TECHNIK',\n",
    "        'FORD-CNG-TECHNIK',\n",
    "        'GMC',\n",
    "        'HONDA',\n",
    "        'HUMMER',\n",
    "        'HYUNDAI',\n",
    "        'INFINITI',\n",
    "        'ISUZU',\n",
    "        'IVECO',\n",
    "        'JAGUAR',\n",
    "        'JAGUAR LAND ROVER LIMIT',\n",
    "        'JEEP',\n",
    "        'KIA',\n",
    "        'LADA',\n",
    "        'LAMBORGHINI',\n",
    "        'LANCIA',\n",
    "        'LAND ROVER',\n",
    "        'LEXUS',\n",
    "        'LOTUS',\n",
    "        'M.G',\n",
    "        'MAHINDRA',\n",
    "        'MASERATI',\n",
    "        'MAZDA',\n",
    "        'MCC SMART',\n",
    "        'MCLAREN',\n",
    "        'MERCEDES',\n",
    "        'MERCEDES-AMG',\n",
    "        'MERCEDES-BENZ',\n",
    "        'MG',\n",
    "        'MICRO COMPACT CAR',\n",
    "        'MINI',\n",
    "        'MITSUBISHI',\n",
    "        'NISSAN',\n",
    "        'OPEL',\n",
    "        'PEUGEOT',\n",
    "        'PORSCHE',\n",
    "        'QUATTRO',\n",
    "        'RANGE ROVER',\n",
    "        'RENAULT',\n",
    "        'ROVER',\n",
    "        'SAAB',\n",
    "        'SANTANA',\n",
    "        'SEAT',\n",
    "        'SEAT FIAT',\n",
    "        'SKODA',\n",
    "        'SMART',\n",
    "        'SSANGYONG',\n",
    "        'SUBARU',\n",
    "        'SUZUKI',\n",
    "        'SUZUKI SANTANA',\n",
    "        'TATA',\n",
    "        'TESLA',\n",
    "        'TESLA MOTORS',\n",
    "        'TOYOTA',\n",
    "        'VOLKSWAGEN',\n",
    "        'VOLKSWAGEN V W',\n",
    "        'VOLVO'\n",
    "    ]"
   ]
  },
  {
   "cell_type": "code",
   "execution_count": null,
   "id": "3c8e5c8b",
   "metadata": {},
   "outputs": [],
   "source": [
    "columns = config['fields_dgt_process']\n",
    "\n",
    "\n",
    "df = '';\n",
    "\n",
    "for dgt_file in config['files_dgt']:\n",
    "\n",
    "    route_file = config['base_route'] + config['data_route'] +  config['data_dgt_route'] + '/' + dgt_file\n",
    "    \n",
    "    print(f'Processing {dgt_file}')\n",
    "    \n",
    "    df_aux = pd.read_csv(route_file, compression='gzip', sep=config['csv_dgt_separator'], low_memory=False)\n",
    "    df_aux.columns = columns\n",
    "\n",
    "    '''\n",
    "    df_aux.astype({\n",
    "        \"Q_query\":\"int\",\n",
    "        \"year_Q\":\"int\",\n",
    "        \"CODIGO_POSTAL\":\"int\",\n",
    "        \"CLAVE_TRAMITE\":\"int\",\n",
    "        \"NUM_TRANSMISIONES\":\"int\",\n",
    "        \"NUM_PLAZAS\":\"int\",\n",
    "        \"NUM_TITULARES\":\"int\",\n",
    "        \"CILINDRADA_ITV\":\"int\",\n",
    "        \"COD_MUNICIPIO_INE_VEH\":\"int\",\n",
    "        \"KW_ITV\":\"int\",\n",
    "        \"NUM_PLAZAS_MAX\":\"int\",\n",
    "        \"CO2_ITV\":\"int\"\n",
    "    })\n",
    "    '''\n",
    "    \n",
    "    df_aux = df_aux.sample(frac=0.4)\n",
    "    \n",
    "    df_aux['FEC_MATRICULA'] = pd.to_datetime(df_aux['FEC_MATRICULA'])\n",
    "    df_aux['FEC_TRAMITACION'] = pd.to_datetime(df_aux['FEC_TRAMITACION'])\n",
    "    df_aux['FEC_TRAMITE'] = pd.to_datetime(df_aux['FEC_TRAMITE'])\n",
    "    df_aux['FEC_PRIM_MATRICULACION'] = pd.to_datetime(df_aux['FEC_PRIM_MATRICULACION'])\n",
    "    \n",
    "    \n",
    "    df_aux = df_aux[df_aux['MARCA_ITV'].isin( return_avaliable_makes() )]\n",
    "    df_aux['MARCA_ITV'] = df_aux['MARCA_ITV'].apply(lambda x: return_make(x) )\n",
    "    df_aux = df_aux[df_aux['MARCA_ITV'] != '']\n",
    "    \n",
    "    \n",
    "    df_aux['Q_query'] = df_aux['Q_query'].apply(lambda x: int(x) if not math.isnan(x) else x )\n",
    "    df_aux['year_Q'] = df_aux['year_Q'].apply(lambda x: int(x) if not math.isnan(x) else x )\n",
    "    df_aux['CODIGO_POSTAL'] = df_aux['CODIGO_POSTAL'].apply(lambda x: int(x) if not math.isnan(x) else x )\n",
    "    df_aux['CLAVE_TRAMITE'] = df_aux['CLAVE_TRAMITE'].apply(lambda x: int(x) if not math.isnan(x) else x )\n",
    "    df_aux['NUM_TRANSMISIONES'] = df_aux['NUM_TRANSMISIONES'].apply(lambda x: int(x) if not math.isnan(x) else x )\n",
    "    df_aux['NUM_PLAZAS'] = df_aux['NUM_PLAZAS'].apply(lambda x: int(x) if not math.isnan(x) else x )\n",
    "    df_aux['NUM_TITULARES'] = df_aux['NUM_TITULARES'].apply(lambda x: int(x) if not math.isnan(x) else x )\n",
    "    df_aux['CILINDRADA_ITV'] = df_aux['CILINDRADA_ITV'].apply(lambda x: int(x) if not math.isnan(x) else x )\n",
    "    df_aux['COD_MUNICIPIO_INE_VEH'] = df_aux['COD_MUNICIPIO_INE_VEH'].apply(lambda x: int(x) if not math.isnan(x) else x )\n",
    "    # df_aux['KW_ITV'] = df_aux['KW_ITV'].apply(lambda x: int(x) if not math.isnan(x) else x )\n",
    "    df_aux['NUM_PLAZAS_MAX'] = df_aux['NUM_PLAZAS_MAX'].apply(lambda x: int(x) if not math.isnan(x) else x )\n",
    "    df_aux['CO2_ITV'] = df_aux['CO2_ITV'].apply(lambda x: int(x) if not math.isnan(x) else x )\n",
    "    \n",
    "    df_aux['CODIGO_POSTAL'] = df_aux['CODIGO_POSTAL'].apply(lambda x: cod_postal_zero_int_repair(x) )\n",
    "    df_aux['COD_MUNICIPIO_INE_VEH'] = df_aux['COD_MUNICIPIO_INE_VEH'].apply(lambda x: cod_postal_zero_int_repair(x) )\n",
    "    df_aux['ID_MUNICIPIO'] = df_aux['COD_MUNICIPIO_INE_VEH'].apply(lambda x: return_id_province_by_zip(x) )\n",
    "    \n",
    "    df_aux = df_aux[df_aux['FEC_TRAMITACION'] >= '2015-01-01 00:00:00']\n",
    "    df_aux = df_aux[df_aux['FEC_TRAMITACION'] <= '2021-12-31 23:59:59']\n",
    "    \n",
    "    df_aux = df_aux[df_aux['FEC_TRAMITE'] >= '2015-01-01 00:00:00']\n",
    "    df_aux = df_aux[df_aux['FEC_TRAMITE'] <= '2021-12-31 23:59:59']\n",
    "    \n",
    "    df_aux['ID_MUNICIPIO'].fillna(value=np.nan, inplace=True)\n",
    "    \n",
    "    df_aux = df_aux[df_aux['ID_MUNICIPIO'].notna()]\n",
    "    df_aux = df_aux[df_aux['year_Q'].notna()]\n",
    "    \n",
    "    df_aux = df_aux[df_aux['ID_MUNICIPIO'] != 0]\n",
    "    \n",
    "    df_aux['year_Q'] = df_aux['year_Q'].apply(lambda x: int(x) if not math.isnan(x) else x )\n",
    "    df_aux['Q_query'] = df_aux['Q_query'].apply(lambda x: int(x) if not math.isnan(x) else x )\n",
    "\n",
    "    df_aux['month_year_Q'] = df_aux['FEC_TRAMITE'].dt.month\n",
    "    \n",
    "    index = df_aux.index\n",
    "    number_of_rows = len(index)\n",
    "    print(f'### Lines -> {number_of_rows}')\n",
    "    \n",
    "    if (type(df) == pd.core.frame.DataFrame):\n",
    "        print('### Merge with main datagrame')\n",
    "        df = pd.concat([df,df_aux]);\n",
    "    else:\n",
    "        print('### Create main datagrame')\n",
    "        \n",
    "        df = df_aux.copy()\n",
    "        \n",
    "    del df_aux\n",
    "    \n",
    "    index = df.index\n",
    "    number_of_rows = len(index)\n",
    "    print(f'### Total lines -> {number_of_rows}')"
   ]
  },
  {
   "cell_type": "code",
   "execution_count": null,
   "id": "3884e4c3",
   "metadata": {},
   "outputs": [],
   "source": [
    "df.sample(10)"
   ]
  },
  {
   "cell_type": "code",
   "execution_count": null,
   "id": "7fb38341",
   "metadata": {},
   "outputs": [],
   "source": []
  },
  {
   "cell_type": "code",
   "execution_count": null,
   "id": "ac739f8b",
   "metadata": {},
   "outputs": [],
   "source": [
    "len(df.index)"
   ]
  },
  {
   "cell_type": "code",
   "execution_count": null,
   "id": "77d4c960",
   "metadata": {},
   "outputs": [],
   "source": []
  },
  {
   "cell_type": "code",
   "execution_count": null,
   "id": "01eda5c8",
   "metadata": {},
   "outputs": [],
   "source": [
    "df.dtypes"
   ]
  },
  {
   "cell_type": "code",
   "execution_count": null,
   "id": "5207cd0e",
   "metadata": {},
   "outputs": [],
   "source": []
  },
  {
   "cell_type": "code",
   "execution_count": null,
   "id": "3822d861",
   "metadata": {},
   "outputs": [],
   "source": [
    "my_report = sv.analyze(df)\n",
    "my_report.show_notebook()"
   ]
  },
  {
   "cell_type": "code",
   "execution_count": null,
   "id": "a42215d0",
   "metadata": {},
   "outputs": [],
   "source": []
  },
  {
   "cell_type": "code",
   "execution_count": null,
   "id": "64479fe5",
   "metadata": {},
   "outputs": [],
   "source": []
  },
  {
   "cell_type": "code",
   "execution_count": null,
   "id": "98b515ec",
   "metadata": {},
   "outputs": [],
   "source": [
    "\n",
    "\n"
   ]
  },
  {
   "cell_type": "code",
   "execution_count": null,
   "id": "c8f1cc70",
   "metadata": {},
   "outputs": [],
   "source": []
  },
  {
   "cell_type": "code",
   "execution_count": null,
   "id": "b72e4e00",
   "metadata": {},
   "outputs": [],
   "source": []
  },
  {
   "cell_type": "code",
   "execution_count": null,
   "id": "bc227c74",
   "metadata": {},
   "outputs": [],
   "source": []
  },
  {
   "cell_type": "code",
   "execution_count": null,
   "id": "582edcdd",
   "metadata": {},
   "outputs": [],
   "source": []
  },
  {
   "cell_type": "code",
   "execution_count": null,
   "id": "19550bdd",
   "metadata": {},
   "outputs": [],
   "source": []
  },
  {
   "cell_type": "code",
   "execution_count": null,
   "id": "67f56978",
   "metadata": {},
   "outputs": [],
   "source": []
  },
  {
   "cell_type": "code",
   "execution_count": null,
   "id": "ee179fe3",
   "metadata": {},
   "outputs": [],
   "source": [
    "\n",
    "\n"
   ]
  },
  {
   "cell_type": "code",
   "execution_count": null,
   "id": "62cf9a94",
   "metadata": {},
   "outputs": [],
   "source": []
  },
  {
   "cell_type": "code",
   "execution_count": null,
   "id": "ba58c51b",
   "metadata": {},
   "outputs": [],
   "source": []
  },
  {
   "cell_type": "code",
   "execution_count": null,
   "id": "c6c76611",
   "metadata": {},
   "outputs": [],
   "source": []
  },
  {
   "cell_type": "code",
   "execution_count": null,
   "id": "b8257d96",
   "metadata": {},
   "outputs": [],
   "source": [
    "df.groupby(['FEC_TRAMITE']).size().reset_index(name='counts')"
   ]
  },
  {
   "cell_type": "code",
   "execution_count": null,
   "id": "f6927ef0",
   "metadata": {},
   "outputs": [],
   "source": []
  },
  {
   "cell_type": "code",
   "execution_count": null,
   "id": "88661aba",
   "metadata": {},
   "outputs": [],
   "source": [
    "fig, ax = plt.subplots(figsize=(20,10))\n",
    "grouped = df.groupby(['FEC_TRAMITE']).size().reset_index(name='counts')\n",
    "\n",
    "sns.lineplot(data=grouped, x='FEC_TRAMITE', y='counts')"
   ]
  },
  {
   "cell_type": "code",
   "execution_count": null,
   "id": "a15ff159",
   "metadata": {},
   "outputs": [],
   "source": [
    "fig, ax = plt.subplots(figsize=(20,10))\n",
    "grouped = df.groupby(['FEC_TRAMITE']).size().reset_index(name='counts')\n",
    "\n",
    "plt.plot(\n",
    "    grouped[(grouped['FEC_TRAMITE'] >= '2015-01-01') & (grouped['FEC_TRAMITE'] < '2015-12-31')]['FEC_TRAMITE'],\n",
    "    grouped[(grouped['FEC_TRAMITE'] >= '2015-01-01') & (grouped['FEC_TRAMITE'] < '2015-12-31')]['counts']\n",
    ")"
   ]
  },
  {
   "cell_type": "code",
   "execution_count": null,
   "id": "d7343790",
   "metadata": {},
   "outputs": [],
   "source": [
    "fig, ax = plt.subplots(figsize=(20,10))\n",
    "grouped = df.groupby(['FEC_TRAMITE']).size().reset_index(name='counts')\n",
    "\n",
    "plt.plot(\n",
    "    grouped[(grouped['FEC_TRAMITE'] >= '2016-01-01') & (grouped['FEC_TRAMITE'] < '2016-12-31')]['FEC_TRAMITE'],\n",
    "    grouped[(grouped['FEC_TRAMITE'] >= '2016-01-01') & (grouped['FEC_TRAMITE'] < '2016-12-31')]['counts']\n",
    ")"
   ]
  },
  {
   "cell_type": "code",
   "execution_count": null,
   "id": "9c8b4bb8",
   "metadata": {},
   "outputs": [],
   "source": [
    "fig, ax = plt.subplots(figsize=(20,10))\n",
    "grouped = df.groupby(['FEC_TRAMITE']).size().reset_index(name='counts')\n",
    "\n",
    "plt.plot(\n",
    "    grouped[(grouped['FEC_TRAMITE'] >= '2017-01-01') & (grouped['FEC_TRAMITE'] < '2017-12-31')]['FEC_TRAMITE'],\n",
    "    grouped[(grouped['FEC_TRAMITE'] >= '2017-01-01') & (grouped['FEC_TRAMITE'] < '2017-12-31')]['counts']\n",
    ")"
   ]
  },
  {
   "cell_type": "code",
   "execution_count": null,
   "id": "bf9e42a7",
   "metadata": {},
   "outputs": [],
   "source": [
    "fig, ax = plt.subplots(figsize=(20,10))\n",
    "grouped = df.groupby(['FEC_TRAMITE']).size().reset_index(name='counts')\n",
    "\n",
    "plt.plot(\n",
    "    grouped[(grouped['FEC_TRAMITE'] >= '2018-01-01') & (grouped['FEC_TRAMITE'] < '2018-12-31')]['FEC_TRAMITE'],\n",
    "    grouped[(grouped['FEC_TRAMITE'] >= '2018-01-01') & (grouped['FEC_TRAMITE'] < '2018-12-31')]['counts']\n",
    ")"
   ]
  },
  {
   "cell_type": "code",
   "execution_count": null,
   "id": "df68cbec",
   "metadata": {},
   "outputs": [],
   "source": [
    "fig, ax = plt.subplots(figsize=(20,10))\n",
    "grouped = df.groupby(['FEC_TRAMITE']).size().reset_index(name='counts')\n",
    "\n",
    "plt.plot(\n",
    "    grouped[(grouped['FEC_TRAMITE'] >= '2019-01-01') & (grouped['FEC_TRAMITE'] < '2019-12-31')]['FEC_TRAMITE'],\n",
    "    grouped[(grouped['FEC_TRAMITE'] >= '2019-01-01') & (grouped['FEC_TRAMITE'] < '2019-12-31')]['counts']\n",
    ")"
   ]
  },
  {
   "cell_type": "code",
   "execution_count": null,
   "id": "d14a763c",
   "metadata": {},
   "outputs": [],
   "source": [
    "fig, ax = plt.subplots(figsize=(20,10))\n",
    "grouped = df.groupby(['FEC_TRAMITE']).size().reset_index(name='counts')\n",
    "\n",
    "plt.plot(\n",
    "    grouped[(grouped['FEC_TRAMITE'] >= '2020-01-01') & (grouped['FEC_TRAMITE'] <= '2020-12-31')]['FEC_TRAMITE'],\n",
    "    grouped[(grouped['FEC_TRAMITE'] >= '2020-01-01') & (grouped['FEC_TRAMITE'] <= '2020-12-31')]['counts']\n",
    ")"
   ]
  },
  {
   "cell_type": "code",
   "execution_count": null,
   "id": "fb2979c6",
   "metadata": {},
   "outputs": [],
   "source": [
    "fig, ax = plt.subplots(figsize=(20,10))\n",
    "grouped = df.groupby(['FEC_TRAMITE']).size().reset_index(name='counts')\n",
    "\n",
    "plt.plot(\n",
    "    grouped[(grouped['FEC_TRAMITE'] >= '2021-01-01') & (grouped['FEC_TRAMITE'] <= '2021-12-31')]['FEC_TRAMITE'],\n",
    "    grouped[(grouped['FEC_TRAMITE'] >= '2021-01-01') & (grouped['FEC_TRAMITE'] <= '2021-12-31')]['counts']\n",
    ")"
   ]
  },
  {
   "cell_type": "code",
   "execution_count": null,
   "id": "78a30896",
   "metadata": {},
   "outputs": [],
   "source": [
    "grouped = df.groupby(['FEC_TRAMITE']).size().reset_index(name='counts')\n",
    "\n",
    "grouped['day_of_year'] = grouped['FEC_TRAMITE'].dt.dayofyear\n",
    "grouped['year'] = grouped['FEC_TRAMITE'].dt.year\n",
    "\n",
    "fig, ax = plt.subplots(figsize=(20,10))\n",
    "\n",
    "#2019 -> red\n",
    "sns.lineplot(data=grouped[(grouped['FEC_TRAMITE'] >= '2019-01-01') & (grouped['FEC_TRAMITE'] <= '2019-12-31')], x='day_of_year', y='counts', color='red', label='2019')\n",
    "#2020 -> blue\n",
    "sns.lineplot(data=grouped[(grouped['FEC_TRAMITE'] >= '2020-01-01') & (grouped['FEC_TRAMITE'] <= '2020-12-31')], x='day_of_year', y='counts', color='blue', label='2020')\n",
    "#2020 -> green\n",
    "sns.lineplot(data=grouped[(grouped['FEC_TRAMITE'] >= '2021-01-01') & (grouped['FEC_TRAMITE'] <= '2021-12-31')], x='day_of_year', y='counts', color='green', label='2021')\n",
    "\n",
    "\n"
   ]
  },
  {
   "cell_type": "code",
   "execution_count": null,
   "id": "9f5de9b6",
   "metadata": {},
   "outputs": [],
   "source": []
  },
  {
   "cell_type": "code",
   "execution_count": null,
   "id": "f6a6ec5d",
   "metadata": {},
   "outputs": [],
   "source": []
  },
  {
   "cell_type": "code",
   "execution_count": null,
   "id": "960e5111",
   "metadata": {},
   "outputs": [],
   "source": []
  },
  {
   "cell_type": "code",
   "execution_count": null,
   "id": "8465491b",
   "metadata": {},
   "outputs": [],
   "source": []
  },
  {
   "cell_type": "code",
   "execution_count": null,
   "id": "8a8c83e3",
   "metadata": {},
   "outputs": [],
   "source": []
  },
  {
   "cell_type": "code",
   "execution_count": null,
   "id": "c4cd843b",
   "metadata": {},
   "outputs": [],
   "source": []
  },
  {
   "cell_type": "code",
   "execution_count": null,
   "id": "9683478c",
   "metadata": {},
   "outputs": [],
   "source": []
  },
  {
   "cell_type": "code",
   "execution_count": null,
   "id": "1e6aa092",
   "metadata": {},
   "outputs": [],
   "source": [
    "fig, ax = plt.subplots(figsize=(20,10))\n",
    "grouped = df.groupby(['FEC_TRAMITE']).size().reset_index(name='counts')\n",
    "\n",
    "plt.plot(\n",
    "    grouped[(grouped['FEC_TRAMITE'] >= '2020-03-01') & (grouped['FEC_TRAMITE'] <= '2020-06-30')]['FEC_TRAMITE'],\n",
    "    grouped[(grouped['FEC_TRAMITE'] >= '2020-03-01') & (grouped['FEC_TRAMITE'] <= '2020-06-30')]['counts']\n",
    ")"
   ]
  },
  {
   "cell_type": "code",
   "execution_count": null,
   "id": "59044923",
   "metadata": {},
   "outputs": [],
   "source": []
  },
  {
   "cell_type": "code",
   "execution_count": null,
   "id": "bfa1a4ac",
   "metadata": {},
   "outputs": [],
   "source": []
  },
  {
   "cell_type": "code",
   "execution_count": null,
   "id": "5aeeb454",
   "metadata": {},
   "outputs": [],
   "source": []
  },
  {
   "cell_type": "code",
   "execution_count": null,
   "id": "90f19a25",
   "metadata": {},
   "outputs": [],
   "source": [
    "fig, ax = plt.subplots(figsize=(20,10))\n",
    "grouped = df.groupby(['FEC_TRAMITE']).size().reset_index(name='counts')\n",
    "\n",
    "plt.plot(\n",
    "    grouped[(grouped['FEC_TRAMITE'] >= '2021-03-01') & (grouped['FEC_TRAMITE'] <= '2021-03-31')]['FEC_TRAMITE'],\n",
    "    grouped[(grouped['FEC_TRAMITE'] >= '2021-03-01') & (grouped['FEC_TRAMITE'] <= '2021-03-31')]['counts']\n",
    ")"
   ]
  },
  {
   "cell_type": "code",
   "execution_count": null,
   "id": "f41e5533",
   "metadata": {},
   "outputs": [],
   "source": []
  },
  {
   "cell_type": "code",
   "execution_count": null,
   "id": "8b74fbe3",
   "metadata": {},
   "outputs": [],
   "source": []
  },
  {
   "cell_type": "code",
   "execution_count": null,
   "id": "4286db0e",
   "metadata": {},
   "outputs": [],
   "source": []
  },
  {
   "cell_type": "code",
   "execution_count": null,
   "id": "098459a8",
   "metadata": {},
   "outputs": [],
   "source": [
    "fig, ax = plt.subplots(figsize=(20,10))\n",
    "grouped = df.groupby(['FEC_TRAMITE']).size().reset_index(name='counts')\n",
    "\n",
    "plt.plot(\n",
    "    grouped[(grouped['FEC_TRAMITE'] >= '2021-03-07') & (grouped['FEC_TRAMITE'] <= '2021-03-15')]['FEC_TRAMITE'],\n",
    "    grouped[(grouped['FEC_TRAMITE'] >= '2021-03-07') & (grouped['FEC_TRAMITE'] <= '2021-03-15')]['counts']\n",
    ")"
   ]
  },
  {
   "cell_type": "code",
   "execution_count": null,
   "id": "02513db8",
   "metadata": {},
   "outputs": [],
   "source": []
  },
  {
   "cell_type": "code",
   "execution_count": null,
   "id": "8f28bbc8",
   "metadata": {},
   "outputs": [],
   "source": []
  },
  {
   "cell_type": "code",
   "execution_count": null,
   "id": "6a4f087a",
   "metadata": {},
   "outputs": [],
   "source": [
    "df['day_of_week'] = df['FEC_TRAMITE'].dt.day_name()\n",
    "df.groupby(['day_of_week']).size().reset_index(name='counts')"
   ]
  },
  {
   "cell_type": "code",
   "execution_count": null,
   "id": "6c41516f",
   "metadata": {},
   "outputs": [],
   "source": [
    "def is_weekend(day_week):\n",
    "    if (day_week == 'Saturday' or day_week == 'Sunday'):\n",
    "        return True\n",
    "    else:\n",
    "        return False"
   ]
  },
  {
   "cell_type": "code",
   "execution_count": null,
   "id": "c44d6fd5",
   "metadata": {},
   "outputs": [],
   "source": [
    "df['day_of_week'].apply(lambda x: is_weekend(x))"
   ]
  },
  {
   "cell_type": "code",
   "execution_count": null,
   "id": "40377a56",
   "metadata": {},
   "outputs": [],
   "source": [
    "df['is_weekend'] = df['day_of_week'].apply(lambda x: is_weekend(x))"
   ]
  },
  {
   "cell_type": "code",
   "execution_count": null,
   "id": "fcc20ade",
   "metadata": {},
   "outputs": [],
   "source": [
    "df[df['is_weekend'] == True ].sample(20)"
   ]
  },
  {
   "cell_type": "code",
   "execution_count": null,
   "id": "4d4e2ba0",
   "metadata": {},
   "outputs": [],
   "source": []
  },
  {
   "cell_type": "code",
   "execution_count": null,
   "id": "7a94167d",
   "metadata": {},
   "outputs": [],
   "source": []
  },
  {
   "cell_type": "code",
   "execution_count": null,
   "id": "3f63685a",
   "metadata": {},
   "outputs": [],
   "source": []
  },
  {
   "cell_type": "code",
   "execution_count": null,
   "id": "456c0ea9",
   "metadata": {},
   "outputs": [],
   "source": []
  },
  {
   "cell_type": "code",
   "execution_count": null,
   "id": "b409044a",
   "metadata": {},
   "outputs": [],
   "source": []
  },
  {
   "cell_type": "code",
   "execution_count": null,
   "id": "0c797dc7",
   "metadata": {},
   "outputs": [],
   "source": [
    "df.groupby(['MARCA_ITV']).size().reset_index(name='counts').sort_values('counts', ascending=False).head(100)"
   ]
  },
  {
   "cell_type": "code",
   "execution_count": null,
   "id": "51e741e2",
   "metadata": {},
   "outputs": [],
   "source": [
    "df.groupby(['MARCA_ITV','year_Q']).size().reset_index(name='counts')"
   ]
  },
  {
   "cell_type": "code",
   "execution_count": null,
   "id": "1524a58f",
   "metadata": {},
   "outputs": [],
   "source": [
    "fig, ax = plt.subplots(figsize=(20,10))\n",
    "grouped = df.groupby(['MARCA_ITV','year_Q']).size().reset_index(name='counts')\n",
    "\n",
    "sns.lineplot(data=grouped[grouped['MARCA_ITV'].isin(\n",
    "        df.groupby(['MARCA_ITV']).size().reset_index(name='counts').sort_values('counts', ascending=False).head(10)['MARCA_ITV']\n",
    "    ) ], x='year_Q', y='counts', hue='MARCA_ITV', legend='full')\n",
    "ax.set_xlim([2015,2021])\n",
    "ax.legend(title='MARCAS')"
   ]
  },
  {
   "cell_type": "code",
   "execution_count": null,
   "id": "037849d4",
   "metadata": {},
   "outputs": [],
   "source": []
  },
  {
   "cell_type": "code",
   "execution_count": null,
   "id": "4fb22895",
   "metadata": {},
   "outputs": [],
   "source": []
  },
  {
   "cell_type": "code",
   "execution_count": null,
   "id": "4bccdbe7",
   "metadata": {},
   "outputs": [],
   "source": []
  },
  {
   "cell_type": "code",
   "execution_count": null,
   "id": "e36a8552",
   "metadata": {},
   "outputs": [],
   "source": []
  },
  {
   "cell_type": "code",
   "execution_count": null,
   "id": "318cf20b",
   "metadata": {},
   "outputs": [],
   "source": []
  },
  {
   "cell_type": "code",
   "execution_count": null,
   "id": "977a8b9c",
   "metadata": {},
   "outputs": [],
   "source": []
  },
  {
   "cell_type": "code",
   "execution_count": null,
   "id": "16b89bf6",
   "metadata": {},
   "outputs": [],
   "source": []
  },
  {
   "cell_type": "code",
   "execution_count": null,
   "id": "8f4eafc6",
   "metadata": {},
   "outputs": [],
   "source": [
    "df.groupby(['ID_MUNICIPIO']).size().reset_index(name='counts').sort_values('counts', ascending=False).head(10)"
   ]
  },
  {
   "cell_type": "code",
   "execution_count": null,
   "id": "7b5fae93",
   "metadata": {},
   "outputs": [],
   "source": [
    "df.groupby(['ID_MUNICIPIO','year_Q']).size().reset_index(name='counts').sort_values('counts', ascending=False)"
   ]
  },
  {
   "cell_type": "code",
   "execution_count": null,
   "id": "4a81117c",
   "metadata": {},
   "outputs": [],
   "source": [
    "df['province'] = df['ID_MUNICIPIO'].apply(lambda x: return_province(x))"
   ]
  },
  {
   "cell_type": "code",
   "execution_count": null,
   "id": "6a7e232f",
   "metadata": {},
   "outputs": [],
   "source": [
    "fig, ax = plt.subplots(figsize=(20,10))\n",
    "\n",
    "grouped = df.groupby(['province','year_Q']).size().reset_index(name='counts').sort_values('counts', ascending=False)\n",
    "\n",
    "sns.lineplot(data=grouped[grouped['province'].isin(\n",
    "        df.groupby(['province']).size().reset_index(name='counts').sort_values('counts', ascending=False).head(10)['province']\n",
    "    ) ], x='year_Q', y='counts', hue='province', legend='full')\n",
    "ax.legend(title='PROVINCIAS')"
   ]
  },
  {
   "cell_type": "code",
   "execution_count": null,
   "id": "f4de6f30",
   "metadata": {},
   "outputs": [],
   "source": []
  },
  {
   "cell_type": "code",
   "execution_count": null,
   "id": "6da448c5",
   "metadata": {},
   "outputs": [],
   "source": []
  },
  {
   "cell_type": "code",
   "execution_count": null,
   "id": "7822fce4",
   "metadata": {},
   "outputs": [],
   "source": []
  },
  {
   "cell_type": "code",
   "execution_count": null,
   "id": "d6549a5c",
   "metadata": {},
   "outputs": [],
   "source": []
  },
  {
   "cell_type": "code",
   "execution_count": null,
   "id": "911e6da2",
   "metadata": {},
   "outputs": [],
   "source": []
  },
  {
   "cell_type": "code",
   "execution_count": null,
   "id": "70b4340b",
   "metadata": {},
   "outputs": [],
   "source": [
    "df.groupby(['PERSONA_FISICA_JURIDICA']).size().reset_index(name='counts').sort_values('counts', ascending=False)"
   ]
  },
  {
   "cell_type": "code",
   "execution_count": null,
   "id": "6031a07c",
   "metadata": {},
   "outputs": [],
   "source": [
    "df.groupby(['PERSONA_FISICA_JURIDICA']).size().reset_index(name='counts').sort_values('counts', ascending=False).plot.bar(x='PERSONA_FISICA_JURIDICA')"
   ]
  },
  {
   "cell_type": "code",
   "execution_count": null,
   "id": "6ef814f0",
   "metadata": {},
   "outputs": [],
   "source": [
    "df.groupby(['year_Q', 'PERSONA_FISICA_JURIDICA']).size().reset_index(name='counts')"
   ]
  },
  {
   "cell_type": "code",
   "execution_count": null,
   "id": "f5e152fe",
   "metadata": {},
   "outputs": [],
   "source": [
    "df.groupby(['year_Q','ID_MUNICIPIO','PERSONA_FISICA_JURIDICA']).size().reset_index(name='counts')"
   ]
  },
  {
   "cell_type": "code",
   "execution_count": null,
   "id": "78f0aa5b",
   "metadata": {},
   "outputs": [],
   "source": [
    "fig, ax = plt.subplots(figsize=(20,10))\n",
    "grouped = df.groupby(['year_Q', 'PERSONA_FISICA_JURIDICA']).size().reset_index(name='counts')\n",
    "\n",
    "grouped['LITERAL_FISICA_JURIDICA'] = grouped['PERSONA_FISICA_JURIDICA'].apply(lambda x: 'Jurídica' if x == 'X' else 'Física')\n",
    "\n",
    "sns.lineplot(data=grouped, x='year_Q', y='counts', hue='LITERAL_FISICA_JURIDICA', legend='full')\n",
    "\n",
    "ax.legend(title='PERSONA FISICA JURIDICA')"
   ]
  },
  {
   "cell_type": "code",
   "execution_count": null,
   "id": "0f810b2a",
   "metadata": {},
   "outputs": [],
   "source": []
  },
  {
   "cell_type": "code",
   "execution_count": null,
   "id": "d8780b4e",
   "metadata": {},
   "outputs": [],
   "source": []
  },
  {
   "cell_type": "code",
   "execution_count": null,
   "id": "3a149295",
   "metadata": {},
   "outputs": [],
   "source": []
  },
  {
   "cell_type": "code",
   "execution_count": null,
   "id": "878daf8c",
   "metadata": {},
   "outputs": [],
   "source": []
  },
  {
   "cell_type": "code",
   "execution_count": null,
   "id": "555e3544",
   "metadata": {},
   "outputs": [],
   "source": []
  },
  {
   "cell_type": "code",
   "execution_count": null,
   "id": "cf2969d9",
   "metadata": {},
   "outputs": [],
   "source": [
    "df.groupby(['NUM_PLAZAS']).size().reset_index(name='counts')"
   ]
  },
  {
   "cell_type": "code",
   "execution_count": null,
   "id": "f9d900c1",
   "metadata": {},
   "outputs": [],
   "source": [
    "fig, ax = plt.subplots(figsize=(20,10))\n",
    "df.groupby(['NUM_PLAZAS']).size().reset_index(name='counts').plot.bar(ax=ax)"
   ]
  },
  {
   "cell_type": "code",
   "execution_count": null,
   "id": "ddb75e94",
   "metadata": {},
   "outputs": [],
   "source": []
  },
  {
   "cell_type": "code",
   "execution_count": null,
   "id": "c9d9e78f",
   "metadata": {},
   "outputs": [],
   "source": []
  },
  {
   "cell_type": "code",
   "execution_count": null,
   "id": "d2633749",
   "metadata": {},
   "outputs": [],
   "source": []
  },
  {
   "cell_type": "code",
   "execution_count": null,
   "id": "2fea7178",
   "metadata": {},
   "outputs": [],
   "source": []
  },
  {
   "cell_type": "code",
   "execution_count": null,
   "id": "3056be35",
   "metadata": {},
   "outputs": [],
   "source": []
  },
  {
   "cell_type": "code",
   "execution_count": null,
   "id": "f8ab7980",
   "metadata": {},
   "outputs": [],
   "source": []
  },
  {
   "cell_type": "code",
   "execution_count": null,
   "id": "80cce384",
   "metadata": {},
   "outputs": [],
   "source": [
    "df.groupby(['CILINDRADA_ITV']).size().reset_index(name='counts')"
   ]
  },
  {
   "cell_type": "code",
   "execution_count": null,
   "id": "cbd9f84f",
   "metadata": {},
   "outputs": [],
   "source": [
    "bins = [0, 10, 100, 500, 1000, 5000, 10000, 25000]\n",
    "\n",
    "df['CILINDRADA_ITV'].value_counts(bins=bins, sort=False).reset_index()"
   ]
  },
  {
   "cell_type": "code",
   "execution_count": null,
   "id": "c0c18950",
   "metadata": {},
   "outputs": [],
   "source": [
    "fig, ax = plt.subplots(figsize=(20,10))\n",
    "\n",
    "bins = [500, 1000, 1500, 2000, 2500, 3000, 5000]\n",
    "\n",
    "df['CILINDRADA_ITV'].value_counts(bins=bins, sort=False).reset_index().plot.bar(x='index', y='CILINDRADA_ITV', rot=0, ax=ax)\n"
   ]
  },
  {
   "cell_type": "code",
   "execution_count": null,
   "id": "ff3d4618",
   "metadata": {},
   "outputs": [],
   "source": []
  },
  {
   "cell_type": "code",
   "execution_count": null,
   "id": "1eeaa0c5",
   "metadata": {},
   "outputs": [],
   "source": []
  },
  {
   "cell_type": "code",
   "execution_count": null,
   "id": "396c9b46",
   "metadata": {},
   "outputs": [],
   "source": []
  },
  {
   "cell_type": "code",
   "execution_count": null,
   "id": "3facc866",
   "metadata": {},
   "outputs": [],
   "source": []
  },
  {
   "cell_type": "code",
   "execution_count": null,
   "id": "606fd958",
   "metadata": {},
   "outputs": [],
   "source": []
  },
  {
   "cell_type": "code",
   "execution_count": null,
   "id": "b7939c5f",
   "metadata": {},
   "outputs": [],
   "source": []
  },
  {
   "cell_type": "code",
   "execution_count": null,
   "id": "5170612c",
   "metadata": {},
   "outputs": [],
   "source": [
    "df.groupby(['POTENCIA_ITV']).size().reset_index(name='counts')"
   ]
  },
  {
   "cell_type": "code",
   "execution_count": null,
   "id": "d13ee8e8",
   "metadata": {},
   "outputs": [],
   "source": [
    "bins = [0, 10, 15, 25, 30, 35, 40, 45, 50]\n",
    "\n",
    "df['POTENCIA_ITV'].value_counts(bins=bins, sort=False).reset_index()"
   ]
  },
  {
   "cell_type": "code",
   "execution_count": null,
   "id": "428fd4a5",
   "metadata": {},
   "outputs": [],
   "source": [
    "fig, ax = plt.subplots(figsize=(20,10))\n",
    "\n",
    "bins = [0, 10, 11, 12, 13, 14, 15, 25, 30, 35]\n",
    "\n",
    "df['POTENCIA_ITV'].value_counts(bins=bins, sort=False).reset_index().plot.bar(x='index', y='POTENCIA_ITV', rot=0, ax=ax)\n"
   ]
  },
  {
   "cell_type": "code",
   "execution_count": null,
   "id": "47059bc7",
   "metadata": {},
   "outputs": [],
   "source": []
  },
  {
   "cell_type": "code",
   "execution_count": null,
   "id": "b7173dfa",
   "metadata": {},
   "outputs": [],
   "source": []
  },
  {
   "cell_type": "code",
   "execution_count": null,
   "id": "d3af31b1",
   "metadata": {},
   "outputs": [],
   "source": []
  },
  {
   "cell_type": "code",
   "execution_count": null,
   "id": "553e8dc6",
   "metadata": {},
   "outputs": [],
   "source": []
  },
  {
   "cell_type": "code",
   "execution_count": null,
   "id": "2c073bd3",
   "metadata": {},
   "outputs": [],
   "source": []
  },
  {
   "cell_type": "code",
   "execution_count": null,
   "id": "a96d6039",
   "metadata": {},
   "outputs": [],
   "source": []
  },
  {
   "cell_type": "code",
   "execution_count": null,
   "id": "8d2e1c81",
   "metadata": {},
   "outputs": [],
   "source": []
  },
  {
   "cell_type": "code",
   "execution_count": null,
   "id": "806f564d",
   "metadata": {},
   "outputs": [],
   "source": []
  },
  {
   "cell_type": "code",
   "execution_count": null,
   "id": "33a83f77",
   "metadata": {},
   "outputs": [],
   "source": [
    "df.groupby(['KW_ITV']).size().reset_index(name='counts')"
   ]
  },
  {
   "cell_type": "code",
   "execution_count": null,
   "id": "1cd16299",
   "metadata": {},
   "outputs": [],
   "source": [
    "\n",
    "\n"
   ]
  },
  {
   "cell_type": "code",
   "execution_count": null,
   "id": "c2927adc",
   "metadata": {},
   "outputs": [],
   "source": []
  },
  {
   "cell_type": "code",
   "execution_count": null,
   "id": "c464f21a",
   "metadata": {},
   "outputs": [],
   "source": []
  },
  {
   "cell_type": "code",
   "execution_count": null,
   "id": "157dbc42",
   "metadata": {},
   "outputs": [],
   "source": []
  },
  {
   "cell_type": "code",
   "execution_count": null,
   "id": "5911eb3c",
   "metadata": {},
   "outputs": [],
   "source": []
  },
  {
   "cell_type": "code",
   "execution_count": null,
   "id": "f228181f",
   "metadata": {},
   "outputs": [],
   "source": []
  },
  {
   "cell_type": "code",
   "execution_count": null,
   "id": "a5963f4d",
   "metadata": {},
   "outputs": [],
   "source": [
    "df.groupby(['IND_NUEVO_USADO']).size().reset_index(name='counts')"
   ]
  },
  {
   "cell_type": "code",
   "execution_count": null,
   "id": "dd685fe4",
   "metadata": {},
   "outputs": [],
   "source": [
    "df.groupby(['IND_NUEVO_USADO']).size().reset_index(name='counts').sort_values('counts', ascending=False).plot.bar(x='IND_NUEVO_USADO')"
   ]
  },
  {
   "cell_type": "code",
   "execution_count": null,
   "id": "94d9c2ab",
   "metadata": {},
   "outputs": [],
   "source": [
    "df.groupby(['year_Q', 'IND_NUEVO_USADO']).size().reset_index(name='counts')"
   ]
  },
  {
   "cell_type": "code",
   "execution_count": null,
   "id": "7fdeeea5",
   "metadata": {},
   "outputs": [],
   "source": [
    "fig, ax = plt.subplots(figsize=(20,10))\n",
    "grouped = df.groupby(['year_Q', 'IND_NUEVO_USADO']).size().reset_index(name='counts')\n",
    "\n",
    "grouped['LITERAL_NUEVO_USADO'] = grouped['IND_NUEVO_USADO'].apply(lambda x: 'Usado' if x == 'U' else 'Nuevo')\n",
    "\n",
    "sns.lineplot(data=grouped, x='year_Q', y='counts', hue='LITERAL_NUEVO_USADO', legend='full')\n",
    "\n",
    "ax.legend(title='Turismo Usado / Nuevo')"
   ]
  },
  {
   "cell_type": "code",
   "execution_count": null,
   "id": "b04bdc79",
   "metadata": {},
   "outputs": [],
   "source": []
  },
  {
   "cell_type": "code",
   "execution_count": null,
   "id": "d200b58a",
   "metadata": {},
   "outputs": [],
   "source": []
  },
  {
   "cell_type": "code",
   "execution_count": null,
   "id": "015fdb9d",
   "metadata": {},
   "outputs": [],
   "source": []
  },
  {
   "cell_type": "code",
   "execution_count": null,
   "id": "32fdcffe",
   "metadata": {},
   "outputs": [],
   "source": []
  },
  {
   "cell_type": "code",
   "execution_count": null,
   "id": "9cead383",
   "metadata": {},
   "outputs": [],
   "source": []
  },
  {
   "cell_type": "code",
   "execution_count": null,
   "id": "3bf39b3a",
   "metadata": {},
   "outputs": [],
   "source": [
    "df.groupby(['CO2_ITV']).size().reset_index(name='counts')"
   ]
  },
  {
   "cell_type": "code",
   "execution_count": null,
   "id": "51c5be80",
   "metadata": {},
   "outputs": [],
   "source": [
    "fig, ax = plt.subplots(figsize=(20,10))\n",
    "\n",
    "bins = [100, 110, 120, 130, 140, 150, 160, 170, 180, 190, 200]\n",
    "\n",
    "df['CO2_ITV'].value_counts(bins=bins, sort=False).reset_index().plot.bar(x='index', y='CO2_ITV', rot=0, ax=ax)\n"
   ]
  },
  {
   "cell_type": "code",
   "execution_count": null,
   "id": "76c92e47",
   "metadata": {},
   "outputs": [],
   "source": []
  },
  {
   "cell_type": "code",
   "execution_count": null,
   "id": "250b089d",
   "metadata": {},
   "outputs": [],
   "source": []
  },
  {
   "cell_type": "code",
   "execution_count": null,
   "id": "5e72a017",
   "metadata": {},
   "outputs": [],
   "source": []
  },
  {
   "cell_type": "code",
   "execution_count": null,
   "id": "c5d7b3ed",
   "metadata": {},
   "outputs": [],
   "source": []
  },
  {
   "cell_type": "code",
   "execution_count": null,
   "id": "72324153",
   "metadata": {},
   "outputs": [],
   "source": []
  },
  {
   "cell_type": "code",
   "execution_count": null,
   "id": "8d7b6277",
   "metadata": {},
   "outputs": [],
   "source": [
    "df.groupby(['RENTING']).size().reset_index(name='counts')"
   ]
  },
  {
   "cell_type": "code",
   "execution_count": null,
   "id": "8ced97ed",
   "metadata": {},
   "outputs": [],
   "source": [
    "df.groupby(['RENTING']).size().reset_index(name='counts').sort_values('counts', ascending=False).plot.bar(x='RENTING')"
   ]
  },
  {
   "cell_type": "code",
   "execution_count": null,
   "id": "e91213ea",
   "metadata": {},
   "outputs": [],
   "source": []
  },
  {
   "cell_type": "code",
   "execution_count": null,
   "id": "d3ca5bcd",
   "metadata": {},
   "outputs": [],
   "source": []
  },
  {
   "cell_type": "code",
   "execution_count": null,
   "id": "bff36512",
   "metadata": {},
   "outputs": [],
   "source": []
  },
  {
   "cell_type": "code",
   "execution_count": null,
   "id": "fa4fa55e",
   "metadata": {},
   "outputs": [],
   "source": []
  },
  {
   "cell_type": "code",
   "execution_count": null,
   "id": "4ddc08d8",
   "metadata": {},
   "outputs": [],
   "source": []
  },
  {
   "cell_type": "code",
   "execution_count": null,
   "id": "e8a626d6",
   "metadata": {},
   "outputs": [],
   "source": []
  },
  {
   "cell_type": "code",
   "execution_count": null,
   "id": "8f6b42ac",
   "metadata": {},
   "outputs": [],
   "source": [
    "df.groupby(['CATEGORÍA_HOMOLOGACIÓN_EUROPEA_ITV']).size().reset_index(name='counts')"
   ]
  },
  {
   "cell_type": "code",
   "execution_count": null,
   "id": "f23eb250",
   "metadata": {},
   "outputs": [],
   "source": []
  },
  {
   "cell_type": "code",
   "execution_count": null,
   "id": "b6bcfc53",
   "metadata": {},
   "outputs": [],
   "source": []
  },
  {
   "cell_type": "code",
   "execution_count": null,
   "id": "d3db2c07",
   "metadata": {},
   "outputs": [],
   "source": []
  },
  {
   "cell_type": "code",
   "execution_count": null,
   "id": "e048e179",
   "metadata": {},
   "outputs": [],
   "source": []
  },
  {
   "cell_type": "code",
   "execution_count": null,
   "id": "a855c5dc",
   "metadata": {},
   "outputs": [],
   "source": []
  },
  {
   "cell_type": "code",
   "execution_count": null,
   "id": "37de6aed",
   "metadata": {},
   "outputs": [],
   "source": [
    "df.groupby(['NIVEL_EMISIONES_EURO_ITV']).size().reset_index(name='counts').sort_values('counts', ascending=False).head(25)"
   ]
  },
  {
   "cell_type": "code",
   "execution_count": null,
   "id": "4efa689f",
   "metadata": {},
   "outputs": [],
   "source": []
  },
  {
   "cell_type": "code",
   "execution_count": null,
   "id": "369bbf3d",
   "metadata": {},
   "outputs": [],
   "source": []
  },
  {
   "cell_type": "code",
   "execution_count": null,
   "id": "8daa16a6",
   "metadata": {},
   "outputs": [],
   "source": []
  },
  {
   "cell_type": "code",
   "execution_count": null,
   "id": "58689b65",
   "metadata": {},
   "outputs": [],
   "source": []
  },
  {
   "cell_type": "code",
   "execution_count": null,
   "id": "0b7a8cd1",
   "metadata": {},
   "outputs": [],
   "source": []
  },
  {
   "cell_type": "code",
   "execution_count": null,
   "id": "1f89e762",
   "metadata": {},
   "outputs": [],
   "source": [
    "df.groupby(['CATEGORÍA_VEHÍCULO_ELÉCTRICO']).size().reset_index(name='counts')"
   ]
  },
  {
   "cell_type": "code",
   "execution_count": null,
   "id": "24bd9482",
   "metadata": {},
   "outputs": [],
   "source": [
    "fig, ax = plt.subplots(figsize=(20,10))\n",
    "\n",
    "\n",
    "df.groupby(['CATEGORÍA_VEHÍCULO_ELÉCTRICO']).size().reset_index(name='counts').sort_values('counts', ascending=False).plot.bar(x='CATEGORÍA_VEHÍCULO_ELÉCTRICO', ax=ax)"
   ]
  },
  {
   "cell_type": "code",
   "execution_count": null,
   "id": "d7a504b9",
   "metadata": {},
   "outputs": [],
   "source": [
    "fig, ax = plt.subplots(figsize=(20,10))\n",
    "grouped = df.groupby(['year_Q', 'CATEGORÍA_VEHÍCULO_ELÉCTRICO']).size().reset_index(name='counts')\n",
    "\n",
    "sns.lineplot(data=grouped, x='year_Q', y='counts', hue='CATEGORÍA_VEHÍCULO_ELÉCTRICO', legend='full')\n",
    "\n",
    "ax.legend(title='Categoría Vehículo Electrico')\n",
    "\n",
    "# PHEV Eléctrico Enchufable\n",
    "# REEV Eléctrico de Autonomía Extendida\n",
    "# HEV Eléctrico Híbrido\n",
    "# BEV Eléctrico de Batería"
   ]
  },
  {
   "cell_type": "code",
   "execution_count": null,
   "id": "1c2c7fcf",
   "metadata": {},
   "outputs": [],
   "source": []
  },
  {
   "cell_type": "code",
   "execution_count": null,
   "id": "56115c7d",
   "metadata": {},
   "outputs": [],
   "source": []
  },
  {
   "cell_type": "code",
   "execution_count": null,
   "id": "2aa33332",
   "metadata": {},
   "outputs": [],
   "source": []
  },
  {
   "cell_type": "code",
   "execution_count": null,
   "id": "0a9bef8a",
   "metadata": {},
   "outputs": [],
   "source": []
  },
  {
   "cell_type": "code",
   "execution_count": null,
   "id": "f4dc9881",
   "metadata": {},
   "outputs": [],
   "source": []
  },
  {
   "cell_type": "code",
   "execution_count": null,
   "id": "12de2fa2",
   "metadata": {},
   "outputs": [],
   "source": []
  },
  {
   "cell_type": "code",
   "execution_count": null,
   "id": "62f8fd4a",
   "metadata": {},
   "outputs": [],
   "source": []
  },
  {
   "cell_type": "code",
   "execution_count": null,
   "id": "6f034ca7",
   "metadata": {},
   "outputs": [],
   "source": [
    "df.groupby(['AUTONOMÍA_VEHÍCULO_ELÉCTRICO']).size().reset_index(name='counts')"
   ]
  },
  {
   "cell_type": "code",
   "execution_count": null,
   "id": "c742da57",
   "metadata": {},
   "outputs": [],
   "source": [
    "bins = [1000, 5000, 10000, 15000, 20000]\n",
    "\n",
    "df['AUTONOMÍA_VEHÍCULO_ELÉCTRICO'].value_counts(bins=bins, sort=False).reset_index()"
   ]
  },
  {
   "cell_type": "code",
   "execution_count": null,
   "id": "ebefeaac",
   "metadata": {},
   "outputs": [],
   "source": [
    "fig, ax = plt.subplots(figsize=(20,10))\n",
    "\n",
    "bins = [1000, 5000, 10000, 15000, 20000]\n",
    "\n",
    "df['AUTONOMÍA_VEHÍCULO_ELÉCTRICO'].value_counts(bins=bins, sort=False).reset_index().plot.bar(x='index', y='AUTONOMÍA_VEHÍCULO_ELÉCTRICO', rot=0, ax=ax)"
   ]
  },
  {
   "cell_type": "code",
   "execution_count": null,
   "id": "f3e5baf8",
   "metadata": {},
   "outputs": [],
   "source": []
  },
  {
   "cell_type": "code",
   "execution_count": null,
   "id": "90fb197a",
   "metadata": {},
   "outputs": [],
   "source": []
  },
  {
   "cell_type": "code",
   "execution_count": null,
   "id": "bdaaeb7a",
   "metadata": {},
   "outputs": [],
   "source": []
  },
  {
   "cell_type": "code",
   "execution_count": null,
   "id": "18d5e0dc",
   "metadata": {},
   "outputs": [],
   "source": []
  },
  {
   "cell_type": "code",
   "execution_count": null,
   "id": "28a7067d",
   "metadata": {},
   "outputs": [],
   "source": []
  },
  {
   "cell_type": "code",
   "execution_count": null,
   "id": "262c05d3",
   "metadata": {},
   "outputs": [],
   "source": []
  },
  {
   "cell_type": "code",
   "execution_count": null,
   "id": "838a42fa",
   "metadata": {},
   "outputs": [],
   "source": [
    "sns.heatmap(df.corr(),cmap='BrBG',center=0)"
   ]
  }
 ],
 "metadata": {
  "kernelspec": {
   "display_name": "Python 3 (ipykernel)",
   "language": "python",
   "name": "python3"
  },
  "language_info": {
   "codemirror_mode": {
    "name": "ipython",
    "version": 3
   },
   "file_extension": ".py",
   "mimetype": "text/x-python",
   "name": "python",
   "nbconvert_exporter": "python",
   "pygments_lexer": "ipython3",
   "version": "3.7.7"
  }
 },
 "nbformat": 4,
 "nbformat_minor": 5
}
